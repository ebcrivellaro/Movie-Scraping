{
  "nbformat": 4,
  "nbformat_minor": 0,
  "metadata": {
    "colab": {
      "name": "Filmes Raspagem // Movies Scraping",
      "provenance": []
    },
    "kernelspec": {
      "name": "python3",
      "display_name": "Python 3"
    },
    "language_info": {
      "name": "python"
    }
  },
  "cells": [
    {
      "cell_type": "code",
      "metadata": {
        "id": "MAEfs9bN0wz5"
      },
      "source": [
        "import pandas as pd"
      ],
      "execution_count": null,
      "outputs": []
    },
    {
      "cell_type": "code",
      "metadata": {
        "id": "tMIrwRmz1CCo"
      },
      "source": [
        "import requests\n",
        "from bs4 import BeautifulSoup\n",
        "import pandas as pd\n",
        "import matplotlib.pyplot as plt \n",
        "import matplotlib.ticker as mtick\n",
        "\n",
        "pd.plotting.register_matplotlib_converters()\n",
        "%matplotlib inline\n",
        "import seaborn as sns"
      ],
      "execution_count": null,
      "outputs": []
    },
    {
      "cell_type": "code",
      "metadata": {
        "id": "uxuDnSTjFX0j"
      },
      "source": [
        "df = pd.read_excel('Nome filmes3.xlsx', index_col=0)  \n",
        "mov = []\n",
        "for x in range(834):\n",
        "    mov.append(df.at[x,'Movies'])"
      ],
      "execution_count": null,
      "outputs": []
    },
    {
      "cell_type": "code",
      "metadata": {
        "id": "0J9-nLhQamfD"
      },
      "source": [
        "df2 = pd.read_excel('Nome filmes 4.xlsx', index_col=0)  "
      ],
      "execution_count": null,
      "outputs": []
    },
    {
      "cell_type": "code",
      "metadata": {
        "id": "HbiPTr4b5wNq"
      },
      "source": [
        "sino = []\n",
        "\n",
        "rev1 = []\n",
        "rev2 = []\n",
        "rev3 = []\n",
        "rev4 = []\n",
        "rev5 = []\n",
        "rev6 = []\n",
        "rev7 = []\n",
        "rev8 = []\n",
        "rev9 = []\n",
        "rev10 = []"
      ],
      "execution_count": null,
      "outputs": []
    },
    {
      "cell_type": "code",
      "metadata": {
        "colab": {
          "base_uri": "https://localhost:8080/",
          "height": 86
        },
        "id": "a8_BhAzl1DPr",
        "outputId": "4348417d-a3a5-4d51-ae82-1aa04f47fec8"
      },
      "source": [
        "for filmes in range (834):\n",
        "\n",
        "  nome = df.at[filmes,'Movies'].replace(\" \", \"_\")\n",
        "  nome = nome.replace(\":\", \"\")\n",
        "  nome = nome.replace(\"-\", \"_\")\n",
        "\n",
        "  p1 = \"https://www.rottentomatoes.com/m/\" + nome\n",
        "  p2 = \"https://www.rottentomatoes.com/m/\" + nome + \"/reviews?type=user\"\n",
        "\n",
        "  pagina1 = requests.get(p1)\n",
        "  pagina2 = requests.get(p2)\n",
        "\n",
        "  revisor1 = BeautifulSoup(pagina1.content, \"html.parser\")\n",
        "  revisor2 = BeautifulSoup(pagina2.content, \"html.parser\")\n",
        "\n",
        "  sinopse = revisor1.find(class_=\"movie_synopsis clamp clamp-6 js-clamp\")\n",
        "\n",
        "  review = revisor2.find_all(class_=\"the_review\")\n",
        "\n",
        "  sino.append(sinopse.get_text())\n",
        "\n",
        "  rev1.append(review[0].get_text())\n",
        "  rev2.append(review[1].get_text())\n",
        "  rev3.append(review[2].get_text())\n",
        "  rev4.append(review[3].get_text())\n",
        "  rev5.append(review[4].get_text())\n",
        "  rev6.append(review[5].get_text())\n",
        "  rev7.append(review[6].get_text())\n",
        "  rev8.append(review[7].get_text())\n",
        "  rev9.append(review[8].get_text())\n",
        "  rev10.append(review[9].get_text())"
      ],
      "execution_count": null,
      "outputs": [
        {
          "output_type": "execute_result",
          "data": {
            "application/vnd.google.colaboratory.intrinsic+json": {
              "type": "string"
            },
            "text/plain": [
              "'\\nfor filmes in range (834):\\n\\n  nome = df.at[filmes,\\'Movies\\'].replace(\" \", \"_\")\\n  nome = nome.replace(\":\", \"\")\\n  nome = nome.replace(\"-\", \"_\")\\n\\n  p1 = \"https://www.rottentomatoes.com/m/\" + nome\\n  p2 = \"https://www.rottentomatoes.com/m/\" + nome + \"/reviews?type=user\"\\n\\n  pagina1 = requests.get(p1)\\n  pagina2 = requests.get(p2)\\n\\n  revisor1 = BeautifulSoup(pagina1.content, \"html.parser\")\\n  revisor2 = BeautifulSoup(pagina2.content, \"html.parser\")\\n\\n  sinopse = revisor1.find(class_=\"movie_synopsis clamp clamp-6 js-clamp\")\\n\\n  review = revisor2.find_all(class_=\"the_review\")\\n\\n  sino.append(sinopse.get_text())\\n\\n  rev1.append(review[0].get_text())\\n  rev2.append(review[1].get_text())\\n  rev3.append(review[2].get_text())\\n  rev4.append(review[3].get_text())\\n  rev5.append(review[4].get_text())\\n  rev6.append(review[5].get_text())\\n  rev7.append(review[6].get_text())\\n  rev8.append(review[7].get_text())\\n  rev9.append(review[8].get_text())\\n  rev10.append(review[9].get_text())\\n  '"
            ]
          },
          "metadata": {
            "tags": []
          },
          "execution_count": 15
        }
      ]
    },
    {
      "cell_type": "code",
      "metadata": {
        "colab": {
          "base_uri": "https://localhost:8080/",
          "height": 52
        },
        "id": "VSQSlBy68JP8",
        "outputId": "eb270edc-f3d1-4ab7-c687-56ceb1b2f371"
      },
      "source": [
        "\n",
        "filmes = 0\n",
        "\n",
        "nome = df.at[filmes,'Movies'].replace(\" \", \"_\")\n",
        "\n",
        "p1 = \"https://www.rottentomatoes.com/m/\" + nome\n",
        "p2 = \"https://www.rottentomatoes.com/m/\" + nome + \"/reviews?type=user\"\n",
        "\n",
        "pagina1 = requests.get(p1)\n",
        "pagina2 = requests.get(p2)\n",
        "\n",
        "revisor1 = BeautifulSoup(pagina1.content, \"html.parser\")\n",
        "revisor2 = BeautifulSoup(pagina2.content, \"html.parser\")\n",
        "\n",
        "sinopse = revisor1.find(class_=\"movie_synopsis clamp clamp-6 js-clamp\")\n",
        "\n",
        "review = revisor2.find(class_=\"the_review\")\n",
        "\n",
        "x = review.get_text()\n"
      ],
      "execution_count": null,
      "outputs": [
        {
          "output_type": "execute_result",
          "data": {
            "application/vnd.google.colaboratory.intrinsic+json": {
              "type": "string"
            },
            "text/plain": [
              "'\\nfilmes = 0\\n\\nnome = df.at[filmes,\\'Movies\\'].replace(\" \", \"_\")\\n\\np1 = \"https://www.rottentomatoes.com/m/\" + nome\\np2 = \"https://www.rottentomatoes.com/m/\" + nome + \"/reviews?type=user\"\\n\\npagina1 = requests.get(p1)\\npagina2 = requests.get(p2)\\n\\nrevisor1 = BeautifulSoup(pagina1.content, \"html.parser\")\\nrevisor2 = BeautifulSoup(pagina2.content, \"html.parser\")\\n\\nsinopse = revisor1.find(class_=\"movie_synopsis clamp clamp-6 js-clamp\")\\n\\nreview = revisor2.find(class_=\"the_review\")\\n\\nx = review.get_text()\\n'"
            ]
          },
          "metadata": {
            "tags": []
          },
          "execution_count": 16
        }
      ]
    },
    {
      "cell_type": "code",
      "metadata": {
        "colab": {
          "base_uri": "https://localhost:8080/",
          "height": 86
        },
        "id": "jsOgkWtB8O5F",
        "outputId": "46d3d3bc-bea2-416d-b88d-8f1683193d86"
      },
      "source": [
        "\n",
        "valor = \"\"\n",
        "\n",
        "for filmes in range (136):\n",
        "\n",
        "  nome = df.at[filmes,'Movies']\n",
        "\n",
        "  if nome == \"Room\":\n",
        "    nome = \"Room_2015\"\n",
        "  elif nome == \"Life of Brian\":\n",
        "    nome = \"monty_pythons_life_of_brian\"\n",
        "  elif nome == \"Marriage Story\":\n",
        "    nome = \"marriage_story_2019\" \n",
        "  elif nome == \"Despicable Me\":\n",
        "    nome = \"1214097-despicable_me\" \n",
        "  elif nome == \"The Theory of Everything\":\n",
        "    nome = \"the_theory_of_everything_2014\" \n",
        "  elif nome == \"The Pursuit of Happyness\":\n",
        "    nome = \"pursuit_of_happyness\" \n",
        "  elif nome == \"Moonlight\":\n",
        "    nome = \"moonlight_2016\" \n",
        "  elif nome == \"Back to the Future Part II\":\n",
        "    nome = \"back_to_the_future_2\"\n",
        "  elif nome == \"Back to the Future Part III\":\n",
        "    nome = \"back_to_the_future_3\"\n",
        "  elif nome == \"The Curious Case of Benjamin Button\":\n",
        "    nome = \"curious_case_of_benjamin_button\"\n",
        "  elif nome == \"Song of the Sea\":\n",
        "    nome = \"song_of_the_sea_2014\"\n",
        "  elif nome == \"Y Tu MamÃƒÂ¡ TambiÃƒÂ©n\":\n",
        "    nome = \"y_tu_mama_tambien\"\n",
        "  elif nome == \"The Last Samurai\":\n",
        "    nome = \"last_samurai\"\n",
        "  elif nome == \"Bahubali: The Beginning\":\n",
        "    nome = \"baahubali_the_beginning\"\n",
        "  elif nome == \"The Boy in the Striped Pyjamas\":\n",
        "    nome = \"boy_in_the_striped_pajamas\"\n",
        "  elif nome == \"Ip Man 2\":\n",
        "    nome = \"ip_man_2_legend_of_the_grandmaster\"\n",
        "  elif nome == \"The Little Prince\":\n",
        "    nome = \"the_little_prince_2016\"\n",
        "  elif nome == \"Kung Fu Panda 2\":\n",
        "    nome = \"kung_fu_panda_the_kaboom_of_doom\"\n",
        "  elif nome == \"The Princess and the Frog\":\n",
        "    nome = \"1196003-princess_and_the_frog\"\n",
        "  elif nome == \"A Single Man\":\n",
        "    nome = \"1218217-single_man\"\n",
        "  elif nome == \"The Squid and the Whale\":\n",
        "    nome = \"squid_and_the_whale\"\n",
        "  elif nome == \"Jim & Andy: The Great Beyond- Featuring a Very Special, Contractually Obligated Mention of Tony Clifton\":\n",
        "    nome = \"jim_and_andy_the_great_beyond_featuring_a_very_special_contractually_obligated_mention_of_tony_clifton\"\n",
        "  else:\n",
        "    nome = nome.replace(\" \", \"_\")\n",
        "    nome = nome.replace(\":\", \"\")\n",
        "    nome = nome.replace(\"-\", \"_\")\n",
        "    nome = nome.replace(\",\", \"\")\n",
        "    nome = nome.replace(\"\\n\", \"\")\n",
        "    nome = nome.replace(\"                \", \"\")\n",
        "    nome = nome.replace(\"'\", \"\")\n",
        "    nome = nome.replace(\".\", \"\")\n",
        "    nome = nome.replace(\"&\", \"and\")\n",
        "    nome = nome.replace(\"!\", \"\")\n",
        "\n",
        "  print(nome)\n",
        "\n",
        "  p1 = \"https://www.rottentomatoes.com/m/\" + nome\n",
        "  p2 = \"https://www.rottentomatoes.com/m/\" + nome + \"/reviews?type=user\"\n",
        "\n",
        "  pagina1 = requests.get(p1)\n",
        "  pagina2 = requests.get(p2)\n",
        "\n",
        "  revisor1 = BeautifulSoup(pagina1.content, \"html.parser\")\n",
        "  revisor2 = BeautifulSoup(pagina2.content, \"html.parser\")\n",
        "\n",
        "  sinopse = revisor1.find(class_=\"movie_synopsis clamp clamp-6 js-clamp\")\n",
        "\n",
        "  review = revisor2.find_all(class_=\"the_review\")\n",
        "\n",
        "  sino.append(sinopse.get_text())\n",
        "\n",
        "for ml in range(9):\n",
        "    \n",
        "  valor += review[ml].get_text()\n",
        "\n",
        "  for ml in review:\n",
        "    rev1.append(ml.get_text())"
      ],
      "execution_count": null,
      "outputs": [
        {
          "output_type": "execute_result",
          "data": {
            "application/vnd.google.colaboratory.intrinsic+json": {
              "type": "string"
            },
            "text/plain": [
              "'\\nvalor = \"\"\\n\\nfor filmes in range (136):\\n\\n  nome = df.at[filmes,\\'Movies\\']\\n\\n  if nome == \"Room\":\\n    nome = \"Room_2015\"\\n  elif nome == \"Life of Brian\":\\n    nome = \"monty_pythons_life_of_brian\"\\n  elif nome == \"Marriage Story\":\\n    nome = \"marriage_story_2019\" \\n  elif nome == \"Despicable Me\":\\n    nome = \"1214097-despicable_me\" \\n  elif nome == \"The Theory of Everything\":\\n    nome = \"the_theory_of_everything_2014\" \\n  elif nome == \"The Pursuit of Happyness\":\\n    nome = \"pursuit_of_happyness\" \\n  elif nome == \"Moonlight\":\\n    nome = \"moonlight_2016\" \\n  elif nome == \"Back to the Future Part II\":\\n    nome = \"back_to_the_future_2\"\\n  elif nome == \"Back to the Future Part III\":\\n    nome = \"back_to_the_future_3\"\\n  elif nome == \"The Curious Case of Benjamin Button\":\\n    nome = \"curious_case_of_benjamin_button\"\\n  elif nome == \"Song of the Sea\":\\n    nome = \"song_of_the_sea_2014\"\\n  elif nome == \"Y Tu MamÃƒÂ¡ TambiÃƒÂ©n\":\\n    nome = \"y_tu_mama_tambien\"\\n  elif nome == \"The Last Samurai\":\\n    nome = \"last_samurai\"\\n  elif nome == \"Bahubali: The Beginning\":\\n    nome = \"baahubali_the_beginning\"\\n  elif nome == \"The Boy in the Striped Pyjamas\":\\n    nome = \"boy_in_the_striped_pajamas\"\\n  elif nome == \"Ip Man 2\":\\n    nome = \"ip_man_2_legend_of_the_grandmaster\"\\n  elif nome == \"The Little Prince\":\\n    nome = \"the_little_prince_2016\"\\n  elif nome == \"Kung Fu Panda 2\":\\n    nome = \"kung_fu_panda_the_kaboom_of_doom\"\\n  elif nome == \"The Princess and the Frog\":\\n    nome = \"1196003-princess_and_the_frog\"\\n  elif nome == \"A Single Man\":\\n    nome = \"1218217-single_man\"\\n  elif nome == \"The Squid and the Whale\":\\n    nome = \"squid_and_the_whale\"\\n  elif nome == \"Jim & Andy: The Great Beyond- Featuring a Very Special, Contractually Obligated Mention of Tony Clifton\":\\n    nome = \"jim_and_andy_the_great_beyond_featuring_a_very_special_contractually_obligated_mention_of_tony_clifton\"\\n  else:\\n    nome = nome.replace(\" \", \"_\")\\n    nome = nome.replace(\":\", \"\")\\n    nome = nome.replace(\"-\", \"_\")\\n    nome = nome.replace(\",\", \"\")\\n    nome = nome.replace(\"\\n\", \"\")\\n    nome = nome.replace(\"                \", \"\")\\n    nome = nome.replace(\"\\'\", \"\")\\n    nome = nome.replace(\".\", \"\")\\n    nome = nome.replace(\"&\", \"and\")\\n    nome = nome.replace(\"!\", \"\")\\n\\n  print(nome)\\n\\n  p1 = \"https://www.rottentomatoes.com/m/\" + nome\\n  p2 = \"https://www.rottentomatoes.com/m/\" + nome + \"/reviews?type=user\"\\n\\n  pagina1 = requests.get(p1)\\n  pagina2 = requests.get(p2)\\n\\n  revisor1 = BeautifulSoup(pagina1.content, \"html.parser\")\\n  revisor2 = BeautifulSoup(pagina2.content, \"html.parser\")\\n\\n  sinopse = revisor1.find(class_=\"movie_synopsis clamp clamp-6 js-clamp\")\\n\\n  review = revisor2.find_all(class_=\"the_review\")\\n\\n  sino.append(sinopse.get_text())\\n\\nfor ml in range(9):\\n    \\n  valor += review[ml].get_text()\\n\\n  for ml in review:\\n    rev1.append(ml.get_text())'"
            ]
          },
          "metadata": {
            "tags": []
          },
          "execution_count": 17
        }
      ]
    },
    {
      "cell_type": "code",
      "metadata": {
        "colab": {
          "base_uri": "https://localhost:8080/",
          "height": 35
        },
        "id": "SX5FLuxX8-Os",
        "outputId": "edbb9927-4894-41be-d7cf-e58cd8c488f2"
      },
      "source": [
        "sino"
      ],
      "execution_count": null,
      "outputs": [
        {
          "output_type": "execute_result",
          "data": {
            "application/vnd.google.colaboratory.intrinsic+json": {
              "type": "string"
            },
            "text/plain": [
              "'sino'"
            ]
          },
          "metadata": {
            "tags": []
          },
          "execution_count": 18
        }
      ]
    },
    {
      "cell_type": "code",
      "metadata": {
        "colab": {
          "base_uri": "https://localhost:8080/"
        },
        "id": "6h2QxmRuSV4w",
        "outputId": "8b2f1357-c0e6-40e7-ef4f-b713bcb77aaa"
      },
      "source": [
        "for filmes in range (136):\n",
        "\n",
        "  nome = df.at[filmes,'Movies']\n",
        "\n",
        "  if nome == \"Room\":\n",
        "    nome = \"Room_2015\"\n",
        "  elif nome == \"Life of Brian\":\n",
        "    nome = \"monty_pythons_life_of_brian\"\n",
        "  elif nome == \"Marriage Story\":\n",
        "    nome = \"marriage_story_2019\" \n",
        "  elif nome == \"Despicable Me\":\n",
        "    nome = \"1214097-despicable_me\" \n",
        "  elif nome == \"The Theory of Everything\":\n",
        "    nome = \"the_theory_of_everything_2014\" \n",
        "  elif nome == \"The Pursuit of Happyness\":\n",
        "    nome = \"pursuit_of_happyness\" \n",
        "  elif nome == \"Moonlight\":\n",
        "    nome = \"moonlight_2016\" \n",
        "  elif nome == \"Back to the Future Part II\":\n",
        "    nome = \"back_to_the_future_2\"\n",
        "  elif nome == \"Back to the Future Part III\":\n",
        "    nome = \"back_to_the_future_3\"\n",
        "  elif nome == \"The Curious Case of Benjamin Button\":\n",
        "    nome = \"curious_case_of_benjamin_button\"\n",
        "  elif nome == \"Song of the Sea\":\n",
        "    nome = \"song_of_the_sea_2014\"\n",
        "  elif nome == \"Y Tu MamÃƒÂ¡ TambiÃƒÂ©n\":\n",
        "    nome = \"y_tu_mama_tambien\"\n",
        "  elif nome == \"The Last Samurai\":\n",
        "    nome = \"last_samurai\"\n",
        "  elif nome == \"Bahubali: The Beginning\":\n",
        "    nome = \"baahubali_the_beginning\"\n",
        "  elif nome == \"The Boy in the Striped Pyjamas\":\n",
        "    nome = \"boy_in_the_striped_pajamas\"\n",
        "  elif nome == \"Ip Man 2\":\n",
        "    nome = \"ip_man_2_legend_of_the_grandmaster\"\n",
        "  elif nome == \"The Little Prince\":\n",
        "    nome = \"the_little_prince_2016\"\n",
        "  elif nome == \"Kung Fu Panda 2\":\n",
        "    nome = \"kung_fu_panda_the_kaboom_of_doom\"\n",
        "  elif nome == \"The Princess and the Frog\":\n",
        "    nome = \"1196003-princess_and_the_frog\"\n",
        "  elif nome == \"A Single Man\":\n",
        "    nome = \"1218217-single_man\"\n",
        "  elif nome == \"The Squid and the Whale\":\n",
        "    nome = \"squid_and_the_whale\"\n",
        "  elif nome == \"Jim & Andy: The Great Beyond- Featuring a Very Special, Contractually Obligated Mention of Tony Clifton\":\n",
        "    nome = \"jim_and_andy_the_great_beyond_featuring_a_very_special_contractually_obligated_mention_of_tony_clifton\"\n",
        "  else:\n",
        "    nome = nome.replace(\" \", \"_\")\n",
        "    nome = nome.replace(\":\", \"\")\n",
        "    nome = nome.replace(\"-\", \"_\")\n",
        "    nome = nome.replace(\",\", \"\")\n",
        "    nome = nome.replace(\"\\n\", \"\")\n",
        "    nome = nome.replace(\"                \", \"\")\n",
        "    nome = nome.replace(\"'\", \"\")\n",
        "    nome = nome.replace(\".\", \"\")\n",
        "    nome = nome.replace(\"&\", \"and\")\n",
        "    nome = nome.replace(\"!\", \"\")\n",
        "\n",
        "  print(nome)\n",
        "\n",
        "  p1 = \"https://www.rottentomatoes.com/m/\" + nome\n",
        "  p2 = \"https://www.rottentomatoes.com/m/\" + nome + \"/reviews?type=user\"\n",
        "\n",
        "  pagina1 = requests.get(p1)\n",
        "  pagina2 = requests.get(p2)\n",
        "\n",
        "  revisor1 = BeautifulSoup(pagina1.content, \"html.parser\")\n",
        "  revisor2 = BeautifulSoup(pagina2.content, \"html.parser\")\n",
        "\n",
        "  sinopse = revisor1.find(class_=\"movie_synopsis clamp clamp-6 js-clamp\")\n",
        "\n",
        "  review = revisor2.find_all(class_=\"audience-reviews__review js-review-text clamp clamp-8 js-clamp\")\n",
        "\n",
        "  sino.append(sinopse.get_text())\n",
        "  print(len(review))\n",
        "\n",
        "  if len(review) >= 1:\n",
        "    rev1.append(review[0].get_text())\n",
        "  else:\n",
        "    rev1.append(\"-\")\n",
        "\n",
        "  if len(review) >= 2:\n",
        "    rev2.append(review[1].get_text())\n",
        "  else:\n",
        "    rev2.append(\"-\")\n",
        "\n",
        "  if len(review) >= 3:\n",
        "    rev3.append(review[2].get_text())\n",
        "  else:\n",
        "    rev3.append(\"-\")\n",
        "\n",
        "  if len(review) >= 4:\n",
        "    rev4.append(review[3].get_text())\n",
        "  else:\n",
        "    rev4.append(\"-\")\n",
        "\n",
        "  if len(review) >= 5:\n",
        "    rev5.append(review[4].get_text())\n",
        "  else:\n",
        "    rev5.append(\"-\")\n",
        "\n",
        "  if len(review) >= 6:\n",
        "    rev6.append(review[5].get_text())\n",
        "  else:\n",
        "    rev6.append(\"-\")\n",
        "\n",
        "  if len(review) >= 7:\n",
        "    rev7.append(review[6].get_text())\n",
        "  else:\n",
        "    rev7.append(\"-\")\n",
        "\n",
        "  if len(review) >= 8:\n",
        "    rev8.append(review[7].get_text())\n",
        "  else:\n",
        "    rev8.append(\"-\")\n",
        "\n",
        "  if len(review) >= 9:\n",
        "    rev9.append(review[8].get_text())\n",
        "  else:\n",
        "    rev9.append(\"-\")\n",
        "\n",
        "  if len(review) >= 10:\n",
        "    rev10.append(review[9].get_text())\n",
        "  else:\n",
        "    rev10.append(\"-\")\n"
      ],
      "execution_count": null,
      "outputs": [
        {
          "output_type": "stream",
          "text": [
            "Inception\n",
            "10\n",
            "The_Matrix\n",
            "10\n",
            "Avengers_Infinity_War\n",
            "10\n",
            "Back_to_the_Future\n",
            "10\n",
            "The_Good_the_Bad_and_the_Ugly\n",
            "10\n",
            "Spider_Man_Into_the_Spider_Verse\n",
            "10\n",
            "The_Pianist\n",
            "1\n",
            "Django_Unchained\n",
            "10\n",
            "Raiders_of_the_Lost_Ark\n",
            "10\n",
            "Inglourious_Basterds\n",
            "10\n",
            "Taxi_Driver\n",
            "10\n",
            "3_Idiots\n",
            "10\n",
            "Pans_Labyrinth\n",
            "10\n",
            "Room_2015\n",
            "10\n",
            "Monty_Python_and_the_Holy_Grail\n",
            "10\n",
            "Once_Upon_a_Time_in_the_West\n",
            "10\n",
            "Indiana_Jones_and_the_Last_Crusade\n",
            "10\n",
            "Groundhog_Day\n",
            "10\n",
            "The_Kings_Speech\n",
            "10\n",
            "Her\n",
            "10\n",
            "There_Will_Be_Blood\n",
            "10\n",
            "The_Social_Network\n",
            "10\n",
            "Dallas_Buyers_Club\n",
            "10\n",
            "The_Perks_of_Being_a_Wallflower\n",
            "10\n",
            "monty_pythons_life_of_brian\n",
            "10\n",
            "Ex_Machina\n",
            "10\n",
            "Silver_Linings_Playbook\n",
            "10\n",
            "District_9\n",
            "10\n",
            "The_Irishman\n",
            "10\n",
            "Moon\n",
            "10\n",
            "marriage_story_2019\n",
            "10\n",
            "Drive\n",
            "10\n",
            "Incredibles_2\n",
            "10\n",
            "Dangal\n",
            "10\n",
            "Klaus\n",
            "10\n",
            "Minority_Report\n",
            "10\n",
            "Mystic_River\n",
            "10\n",
            "Like_Stars_on_Earth\n",
            "10\n",
            "Ferris_Buellers_Day_Off\n",
            "10\n",
            "1214097-despicable_me\n",
            "10\n",
            "Hell_or_High_Water\n",
            "10\n",
            "Sin_City\n",
            "10\n",
            "Ip_Man\n",
            "10\n",
            "Indiana_Jones_and_the_Temple_of_Doom\n",
            "10\n",
            "the_theory_of_everything_2014\n",
            "10\n",
            "pursuit_of_happyness\n",
            "10\n",
            "Senna\n",
            "10\n",
            "Scott_Pilgrim_vs_the_World\n",
            "10\n",
            "Magnolia\n",
            "10\n",
            "The_Hateful_Eight\n",
            "10\n",
            "The_Artist\n",
            "10\n",
            "moonlight_2016\n",
            "10\n",
            "back_to_the_future_2\n",
            "10\n",
            "Willy_Wonka_and_the_Chocolate_Factory\n",
            "10\n",
            "Whats_Eating_Gilbert_Grape\n",
            "10\n",
            "curious_case_of_benjamin_button\n",
            "10\n",
            "Hugo\n",
            "10\n",
            "Ant_Man_and_the_Wasp\n",
            "10\n",
            "As_Good_as_It_Gets\n",
            "10\n",
            "back_to_the_future_3\n",
            "10\n",
            "Searching_for_Sugar_Man\n",
            "10\n",
            "Road_to_Perdition\n",
            "10\n",
            "To_All_the_Boys_Ive_Loved_Before\n",
            "10\n",
            "Mollys_Game\n",
            "10\n",
            "Blackfish\n",
            "10\n",
            "El_Camino_A_Breaking_Bad_Movie\n",
            "10\n",
            "The_Invisible_Guest\n",
            "10\n",
            "song_of_the_sea_2014\n",
            "10\n",
            "End_of_Watch\n",
            "10\n",
            "The_Evil_Dead\n",
            "10\n",
            "About_Time\n",
            "10\n",
            "Kung_Fu_Hustle\n",
            "10\n",
            "Blue_Is_the_Warmest_Color\n",
            "10\n",
            "y_tu_mama_tambien\n",
            "10\n",
            "The_Naked_Gun_From_the_Files_of_Police_Squad\n",
            "10\n",
            "Mud\n",
            "10\n",
            "The_Edge_of_Seventeen\n",
            "10\n",
            "Lagaan_Once_Upon_a_Time_in_India\n",
            "10\n",
            "Tucker_and_Dale_vs_Evil\n",
            "10\n",
            "The_Matrix_Reloaded\n",
            "10\n",
            "The_Two_Popes\n",
            "10\n",
            "last_samurai\n",
            "10\n",
            "The_Florida_Project\n",
            "10\n",
            "13th\n",
            "10\n",
            "baahubali_the_beginning\n",
            "10\n",
            "Dolemite_Is_My_Name\n",
            "10\n",
            "Tarzan\n",
            "10\n",
            "Okja\n",
            "10\n",
            "Saving_Mr_Banks\n",
            "10\n",
            "Icarus\n",
            "10\n",
            "Jiro_Dreams_of_Sushi\n",
            "10\n",
            "Corpse_Bride\n",
            "10\n",
            "Jerry_Maguire\n",
            "10\n",
            "The_Death_of_Stalin\n",
            "10\n",
            "GoldenEye\n",
            "10\n",
            "boy_in_the_striped_pajamas\n",
            "10\n",
            "Ralph_Breaks_the_Internet\n",
            "10\n",
            "Good_Time\n",
            "10\n",
            "ip_man_2_legend_of_the_grandmaster\n",
            "10\n",
            "the_little_prince_2016\n",
            "10\n",
            "The_Spectacular_Now\n",
            "10\n",
            "Baahubali_2_The_Conclusion\n",
            "10\n",
            "PK\n",
            "10\n",
            "The_Lobster\n",
            "10\n",
            "Blue_Valentine\n",
            "10\n",
            "Zindagi_Na_Milegi_Dobara\n",
            "10\n",
            "kung_fu_panda_the_kaboom_of_doom\n",
            "10\n",
            "The_Ballad_of_Buster_Scruggs\n",
            "10\n",
            "Burning\n",
            "0\n",
            "The_Adventures_of_Tintin\n",
            "10\n",
            "Chasing_Amy\n",
            "10\n",
            "1196003-princess_and_the_frog\n",
            "10\n",
            "Bad_Genius\n",
            "10\n",
            "The_Wicker_Man\n",
            "10\n",
            "1218217-single_man\n",
            "10\n",
            "Blow\n",
            "10\n",
            "squid_and_the_whale\n",
            "10\n",
            "My_Life_as_a_Zucchini\n",
            "10\n",
            "jim_and_andy_the_great_beyond_featuring_a_very_special_contractually_obligated_mention_of_tony_clifton\n",
            "10\n",
            "Barfi\n",
            "10\n",
            "Frances_Ha\n",
            "10\n",
            "Tootsie\n",
            "10\n",
            "Steve_Jobs\n",
            "9\n",
            "Tremors\n",
            "10\n",
            "The_Croods\n",
            "10\n",
            "Locke\n",
            "10\n",
            "Bill_Burr_Im_Sorry_You_Feel_That_Way\n",
            "10\n",
            "Starred_Up\n",
            "10\n",
            "Mudbound\n",
            "10\n",
            "Blue_Ruin\n",
            "10\n",
            "The_Patriot\n",
            "4\n",
            "Babel\n",
            "10\n",
            "Miracle\n",
            "10\n",
            "Swades\n",
            "10\n",
            "Tinker_Tailor_Soldier_Spy\n",
            "10\n",
            "Haider\n",
            "10\n"
          ],
          "name": "stdout"
        }
      ]
    },
    {
      "cell_type": "code",
      "metadata": {
        "colab": {
          "base_uri": "https://localhost:8080/"
        },
        "id": "PHMbzjVrTVFH",
        "outputId": "c2e2056c-5e03-4b37-a179-084f782f85d6"
      },
      "source": [
        "rev4"
      ],
      "execution_count": null,
      "outputs": [
        {
          "output_type": "execute_result",
          "data": {
            "text/plain": [
              "[\"This is probably my all-time favorite film. It's intricately plotted story is marvelous. A triumph of imagination and action. I watched it five times, once for each dream level, to see if things really added up. I found that they did. I think I will watch it again soon.\",\n",
              " 'The matrix visualmente es atractiva impresionante y todo lo que te puedas imaginar, y si es eso',\n",
              " \"How? Are the Russo's magicians? How did the balance the seventy-six characters it features. If this movie flopped, the whole buildup of 21 films would be a huge disappointment. The Russo's would be dragged in the dirt. But they did not crack. They had huge expectations for this film and they didn't disappoint. They established a great villain, great writing and interaction between beloved characters, high stakes, great cinematography, great acting, and amazing character development.\",\n",
              " \"Easily one of the greatest and most iconic movies to come out of the 80's!\",\n",
              " 'One of if not the best western ever made. This movie is a splendid 3 hour affair that is everything one wants in a western. Memorable sequences in the hunt for gold while  the Civil War interferes in the pursuit. This movie has subtle funny lines, with all of that being said, this movie is highly recommended.',\n",
              " 'I, a not superhero fan, this is a glorious movie, with amazing characters',\n",
              " '-',\n",
              " 'Love the country song, lots of character & respects by the lead cast. The pace slow down in the middle part I do enjoy the whole storytelling. Slavery is cruel, hate it',\n",
              " \"This is absolutely a must-watch before you die. One of Speilberg's finest. It still holds up amazingly well to this day. If you haven't seen this, you are seriously missing out.\",\n",
              " \"Inglourious Basterds - 10/10. Quentin Tarantino's best film is this WW2 revisionist film. With 3 plots in one (following a young Jewish woman who wants to seek revenge against the evil Nazi commander that killed her family, a band of soldiers who kill Nazis, and an actress who is cooperating with the allies in order to feed them information), the movie is expertly written and smartly directed by Quentin. Its one of the few Hollywood films that I know which is almost entirely in another language (only 30% of the film is in english). It shows the authenticity Quentin wanted to put in this fictional war story. The performances are spectacular, in particular, Melanie Laurent, Brad Pitt, Christoph Waltz, Michael Fassbender, Eli Roth, Diane Kruger, Daniel Brühl, Til Schweiger, and Mike Myers are all great in their respective roles, no matter how much screen time they get. The film is edited so well too, making it feel a lot more modern with its sleek editing style. It's one of the few films that seems to get better and better every time you revisit it, and its one of the few war films that somehow is able to interject comedy without it being out of place. An excellent film and the best in Quentin's long career!\",\n",
              " 'Phenomenal! I would have toned down the graphic violence but regardless, this is a dark and beautiful piece of art.',\n",
              " 'Best movie of all time. Perfect in every sense.',\n",
              " \"A dark fantasy film, but a monumental film. It's weird violent fairytale, but that doesn't mean that it is bad. I think that it is kind of like Tim Burton's Alice in Wonderland, but violent and much better. What I mean is that it's a cgi feast, but unlike Alice in Wonderland where the cgi is to much. But in Pan's Labyrinth it's beautiful with practical effects mixed in, it's a truly great film. A MUST SEE!\",\n",
              " '9.5/10 A brilliant movie that I may never bring myself to watch again. A real tear jerker and an emotional roller coaster. ',\n",
              " \"The comedy has somewhat aged, or perhaps I'm coming to it too late, since I've seen much of it elsewhere. Still, a pleasant watch when totally baked out of your head.\",\n",
              " 'In the wake of The Good, The Bad and the Ugly, at the height of his notoriety as master of the spaghetti western, Sergio Leone moved to America and intended to explore different genres. Problem was, all the major studios wanted him to continue making dusty pistol-wranglers. He obliged with this; a somber, atmospheric piece that touches all the familiar hallmarks but lacks the heart, passion and tenacity of his preceding \"Dollars Trilogy.\"\\n\\nOnce Upon a Time in the West depicts a cutthroat competition between a posh businessman, a nasty outlaw, two vigilantes and a widow over the development rights to a crucial piece of land in the middle of nowhere. That won\\'t be the case for long, however, as progress demands a continental railroad and the only source of water in a fifty-mile radius lies on this property. Everyone wants a slice of the inevitable riches, if not the whole pie. Matched with a characteristically stirring, yowling musical score from Ennio Morricone, outfitted with big-budget equipment and name actors, the film is positively drenched with character. Nowhere is this more apparent than in the opening scene, where Leone wordlessly dwells on three would-be assassins as they patiently await their mark. We don\\'t need dialog to appreciate how grimy and low-down the trio is, loose with their morals as well as their manners, and the dense ten minutes of their mini-arc wraps us up like a smallpox blanket.\\n\\nIn such a bite-sized dose, the restraint is delicious. Leone applies it to the entire sprawling, 160-minute film. It\\'s all syrupy texture with very little concrete storytelling, a drastic example of mood over substance. I love the idea of Henry Fonda playing against-type as a scummy, conniving scoundrel. Charles Bronson, in a role clearly written for Clint Eastwood, deals almost exclusively in piercing squints and creepy harmonica riffs. Claudia Cardinale is breathtakingly beautiful as a recently-widowed spitfire with oodles of defiant willpower. The cast seems well-primed for a wonderful story, but instead they loiter about, rubbing elbows and making threats, while the plot rambles and sprays mundane, cryptic implications. It takes forever and it barely goes anywhere. Clearly, this is the work of a talented director who\\'d lost interest in making just one type of movie. I think Leone mailed it in.',\n",
              " \"This is absolutely my favourite Indiana Jones film of them all. The journey 'Junior' undergoes is extensive, and the chemistry between Sean Connery and Harrison Fords' chemistry leads to some of the best back and forth I've ever seen in such an interesting adventure film. The plot itself is fascinating and the film can be re watched multiple times, whilst never getting old. This is a definite must-watch and for the people who loved Raiders, I am sure you won't regret the sweet taste of Indy fighting off Nazis, and plundering holy artifacts.\",\n",
              " 'Just an alright movie.',\n",
              " \"''Golly gosh'', doesn't she Queen Mother look like her daughter Princess Margaret. Its a film that's just like an early episode of the Crown which could be it's sequel.\",\n",
              " \"Her is one of the most beautiful yet heartbreaking films I've ever seen. Spike Jonze is incredible. This is also based on Jonze's relationship with his ex-girlfriend and you can see just how personal this film truly is to him.\",\n",
              " 'It is hard for me to describe the contempt with which I regard virtually all of the works of Paul Thomas Anderson, except to say that my resentment may be likened to that of a swindled mark, realizing only too late that he\\'s been taken by a con man. \"There Will Be Blood\" establishes Anderson as a specialist in florid but ultimately vapid cinematic pseudo-poetry; a conceited artist who crafts intense characters, stark surroundings, and a persistently heightened emotional undercurrent completely incongruent with his impoverished material. Incongruent because the treasure chest he so ostentatiously bedecks contains nothing but air. In Anderson\\'s world, style ever serves as a presumptuous stand-in for substance. Carefully embellished meaninglessness assumes the guise of a profound, impenetrable enigma. Memorable as they are, his characters never evolve, his plots never take full shape, and this particular film sprawls inertly across its ambitious running time exhibiting no hint of purpose or structural discipline. To be fooled by Anderson\\'s work is to realize all too painfully one\\'s own gullibility. To disdain his work is to attain the sober self-assurance that one will never again be duped by so transparent a charlatan.',\n",
              " 'A classic David Fincher film, that will one day be accepted as one of the best movies. This is real cinema and very enjoyable, must see.',\n",
              " \"It's a solid but unremarkable film \",\n",
              " \"Very moving, I love these types of movies and this is the best of this type I've seen.\",\n",
              " 'The funniest movie, and most potent satire, ever made!',\n",
              " 'Probably my favourite Sci-fi - what a watch!',\n",
              " 'This movie has among the best cast chemistry of a movie I can think of.  Bradley Cooper stars as a troubled man recovering from a nervous breakdown associated with a martial break up.  Robert DeNiro and Jackie Weaver are his complex parents.  His father has a gambling problem which is a prominent part of the film.  Jennifer Lawrence is amazing as the also troubled woman that helps Cooper be his best self.  Beautiful story.  Well written and directed by David O Russell.  The supporting cast, including Chris Tucker are great. This is funny and moving and heartfelt.',\n",
              " 'Amusing, engaging and thought provoking.  Sharlto Copley is utterly brilliant in the lead role. You filtee preorrn!',\n",
              " \"Didn't make it through the film, and nothing about the plot, acting, or cinematography makes me want to try to finish it. Boring and predictable violence, with no interesting characters. \\n\\nIf Scorsese truly wants to challenge himself, he should try to make his next film an outright dark comedy, since he was the only one smart enough to take Jerry Lewis on as a serious dramatic talent so many years ago. I think he'd do better to put down the boyhood gangster shoot-em-ups, and take on some killer comics like a grown man who listens to The Band!\",\n",
              " \"The concept of this movie was great but it was lacking some character development.  I don't understand the praise that this movie got.\",\n",
              " 'Loved the opening scene!!',\n",
              " '1/23/2016: The martial arts were good and Murphy was cute as hell, but the story, dialogue, and acting was pretty bad.',\n",
              " \"It's just as good as the first one. it's nice to have some Girl power with Elastigirl in the movie.\",\n",
              " \"Too long, too predictable and too slow.\\n\\nAfter the 161 minutes were over, I didn't hold anything majorly negative about 'Dangal' as it does improve as it goes on. However, the first chunk of this film is yawnful, with the story falling to initially inspire - just a guide on how to be a bad parent, in anything. The ending is also pretty cartoonish, with the broom cupboard stuff.\\n\\nThe cast performances are, in fairness, very good. Aamir Khan does great as Mahavir, while Fatima Sana Shaikh (and Zaira Wasim) are impressive as Geeta. Sanya Malhotra (and Suhani Bhatnagar) deserve praise also.\\n\\nWith that noted, It isn't really anything all that fresh for Bollywood sport biopics either. It follows similar beats to 2014's 'Mary Kom' and 2015's 'Brothers'... even 2011's 'Patiala House'.\\n\\nFor me, this 2016 production just feels so bloated and forced that it hampers the, admittedly noteworthy, hearty narrative. The leads are the only strong points to it in my opinion. It has been very highly received by others, so what do I know? Opinions and all that.\",\n",
              " 'A fun and humorous little film about a possible origin of that certain fat man in the red suit.  Has the standard storybeats with the postman, starting off selfish, learns to be better, has the low point and then triumph at the end but does it all in an interesting way that it was quite enjoyable.',\n",
              " 'Great movie, will always be a classic. Special effects might not hold up the best, but the base is solid.',\n",
              " \"I was pleasantly surprised. It has a storyline that I've never seen before including an excellent and unusual setup. A really jarring plot twist and characters who you care about. The casting was unforgettable and the acting was on point. Clint Eastwood tells the story simply, barely moving the camera and keeps the audience engaged. Even if you rarely enjoy dramas, I definitely would recommend this underrated gem.\",\n",
              " '(a \"Dear special child:\" film review by Timothy J. Verret)\\n\\n\"Dear special child:\"\\n\\nThere are some films that just \"change the game.\" They get us to look at the world in an entirely different and unique way. Such is this film from India, LIKE STARS ON EARTH. In fact, looking at the world in an entirely different and unique way is EXACTLY what this film is all about. It\\'s about a \"Dear special child:\" who was led by a wonderfully special teacher to see how truly miraculous and special he was, is, and always will be. I would have loved to have seen this special film as a \"Dear special child:\" myself, as it would have \"changed my game\" and allowed me to embrace me as special as I was, is, and always will be.\\n\\nDarsheel Safary plays the special child, Ishaan Awasthi, and it\\'s a marvelous performance of absolute and complete originality. Any exceptionally gifted, young actor would have found it difficult to carry a nearly 3-hour film, but Safary is not just any exceptionally gifted, young actor. He is TRULY special, just as Ishaan is. With the young eyes of an old soul and those big buck teeth, Safary wins us over the minute he shows up in the film and he has our heart in every scene that follows until the triumphant end. Aamir Khan plays the wonderfully special teacher, Ram Shankar Nikumbh, and Khan, most definitely an inner child as an outer adult, wins us over, as well, with his creative and unique teaching style. The other teachers in the school don\\'t know what to make of Nikumbh but when they try to make him over into the stringent and regimented teacher they are, Nikumbh faces them all and gives them the Nazi salute of, \"Heil Hitler!\" Priceless and very apropos! It\\'s not the least that Ishaam is lazy and rebellious; it\\'s simply the most that Ishaam has undiagnosed dyslexia. Words confuse him and cause him to have poor motor skills, as well. Catching a ball is impossible for Ishaam, because he can\\'t understand the concept of the ball being thrown to him, unable to clock the actual distance from the ball, thus completely unable to catch the ball. Words hold this same concept of confusion for him. When Nikumbh figures out why Ishaam can\\'t read and write, he sets out to address his dyslexia but Nikumbh does something even more remarkable than that: Nikumbh addresses Ishaam\\'s creativity in painting where words cannot possibly fail him. Ishaam\\'s parents are clueless about his dyslexia, as many parents unfortunately are, and Ishaam\\'s father is hell bent on his children succeeding and winning. Ishaam succeeds and wins in ways his father cannot understand, and that is through Ishaam\\'s creativity.\\n\\nI\\'m not kidding you, \"Dear special child:\" Every single teacher and parent with a child and/or children should be mandated to watch this film. Teachers and parents need to understand that their child does not have to succeed or win because a certain teacher and parent didn\\'t succeed or win in their own lives. Teachers and parents need to address each special child individually, uniquely, refreshingly accommodating to each special child\\'s unique gifts and talents. The child might become the quarterback of a football team but the child also might become the painter who paints like no one else can possibly paint. The child might be the smartest kid in the class but the child also might be the most artistic kid in the class. This film inspires me to want to teach because I want kids to \"get this.\" I want kids to \"get\" that they don\\'t have to be who their teacher or parent thinks they need to be. They need ONLY be who they NEED to be. My parents wanted me to be a doctor or a lawyer for the rich career warranted. I wanted to be the artist I am now for the \"rich career\" of being enriched as the creative person God enriched me to be, monetarily rich or poor. It\\'s these creative types like Albert Einstein, Leonardo da Vinci, Thomas Edison, all with learning disabilities, who \"changed the game\" and thus changed the world. It\\'s these creative types who do God, The Original Creator, justice by creating from adversity to sheer originality.\\n\\nI\\'m not going to let you, \"Dear special child:,\" get away without saying this:\\n\\n\"Dear special child:\" YOU ARE SPECIAL! You always were, are, and always will be. There is not one single thing you need to \"change about your game.\" If your teachers want you to be who they want you to be, be YOU! If your parents want you to be who they want you to be, be YOU! There is no one else like you and there is no one else who will ever be like you. You are one-of-a-kind, unique, special, endearing, remarkable, marvelous….do you need me to go on? If you do, I will! I\\'m so grateful to God that He brought this absolute gem of a film to me at just the absolute right time, because I can often feel VERY \"unspecial.\" This film reminds me and all of us just how special we were, are, and always will be. \"Like stars on earth\" indeed am I….and YOU!!!!\\n\\nUnique and original blessings ALWAYS, \"Dear special child:,\"\\n\\nTimothy J. Verret (a \"Dear special child:\")',\n",
              " \"I must say that this is a fantastic film. It is a funny comedy about friendship and the fun side of the life. You can't have no smiles or laughs during the film and you can't find a bad thing to say about it because it is a simple movie that has no comedy flaws. It has a good sense of humor with funny moments. Dramatic moments occur too and they are perfectly placed and worked which leads us to another point. The development of the character of Ferrie's friend (I don't remember his name, oups) is awesome and you see that for his age, he has no pleasure and that is what Ferrie gives him. Pleasure. They just want to have fun before it is too late and we have fun with them. It is a strongly communicative film that makes the audience developed a sort of link with the young trio. The actors play really well. A must see in his life. A movie with iconic scenes, good humor, great acting, morale, characters and also, no flaws.\",\n",
              " 'Beautiful film, really liked it.',\n",
              " 'One of the best modern westerns to come along in a very long time!',\n",
              " 'sin city, frank millier Neo Nior comic into a movie is one of the most experimental and impressive movies ever.',\n",
              " 'Wonderfully choreographed kung-fu fight scenes, an interesting historical backdrop, and a personal backstory that, while conflated, serves its purpose to hold the movie together.  A little to propaganda-ish in its presentation, and a little to stereotypical in its depiction of the Japanese.  However, the pacing is good.',\n",
              " \"6.5/10. A step back for the franchise, 'Temple of Doom' trades in fun, breezy adventure for a dark, disturbing descent into hellacious terror for the bulk of its run time. Harrison Ford is still mostly good as the title character, and Amrish Puri is suitably terrifying as villain Mola Ram. Other members of the cast don't live up to these performances, though - Ke Huy Quan is cute but annoying as Indy's young adopted buddy Short Round, while Kate Capshaw is insufferable as Jones' night club singer turned romantic interest Willie Scott. It may not be entirely the actors' faults - Short Round is a walking Chinese stereotype and Scott spends the film whining, squealing, and falling over as comic relief, though there is little comic about it. A heavy, gruesome, and above all else slow second act is buoyed on either side by first and final acts that seem truer to the spirit of the first film, featuring exciting action and good humor. It has it's moments, and it's worth seeing once and again if you ever decide to marathon the series, but the slogging pace and annoying characters make this one easy to pass on.\",\n",
              " 'The Theory of Everything is often more sentimental and with a greater focus on personal life than the career of one of the greatest geniuses of humanity, but the direction pays off with key pieces of script and performances by an incredible cast.',\n",
              " 'A fathers love brought to film.',\n",
              " \"Brilliant documentary! Doesn't matter if you are a Formula One enthusiast or not, you will love it!\",\n",
              " 'Hipster trash and Edgar Wright is overrated.\\nThe way movie is structured it feels more like a video game that you can\\'t play.\\nBut \"muh video game references\" you might say \"that\\'s the whole point of the movie\".\\nMaybe Wright should\\'ve directed a video game then.',\n",
              " 'Incredible movie. A storm of good and bad emotions.',\n",
              " 'Alguém tem que ensinar Tarantino o que é edição, parece que ele esqueceu. è onde se corta partes do filme pra ele não ficar chato e cansativo. 1:30h de filme estava de bom tamanho. Deveria lançar uma Shortened Version.',\n",
              " 'An infectiously loving tribute to the defining films of cinema as we know it.',\n",
              " 'Touching, empathetic, understated. Beautiful use of language.',\n",
              " 'Back to the Future Part II was a great sequel! It really felt like a SEQUAL! The Characters are still their best selves. And even the story was amazing! Loved everything about it. Great Soundtrack, as always, and best directing. I am going to give Back to the Future Part II: an A- ',\n",
              " \"Timeless classic. So many good memories watching this as a child with my grandparents... If you haven't watched this before you are missing a huge part of movie history....\",\n",
              " 'I can watch this film over and over again and I will never get tired of watching it.',\n",
              " 'Very unique, heartwarming, and sad. ',\n",
              " \"This movie teaches us human beings what humanity really is. As in other words, it taught me how to be kind to others. To learn what's going on with other people before judging because of their appearance. It filled my heart with happiness. I might not sound serious. But, I forever will remember this movie from today onward.\",\n",
              " \"Ant-Man and the Wasp was a boring movie. The story of this movie was very boring. It's very forgettable. One thing I like about the movie is the once again perfect cast and performance. All in all I give this movie a 2/5 stars.\",\n",
              " 'Really good it was funny some scenes and a little sad some scenes too! Overall AMAZING ',\n",
              " \"If this is the weakest movie of the trilogy, then you have one amazing trilogy and this is still a satisfying end. It was awesome being in 1885 with a Wild Western setting. It felt fresh and new and I had a great time with it due to the movie staying so loyal to it throughout. Old Man Biff was also an excellent antagonist and damn does he scare me. I also think Doc is written the best in this trilogy. The subplot with his love interest, Carla is actually sweet and it's nice seeing Doc as a real person, not just a scientist, thinking about his future and what he wants and Marty concludes his arc set in the second movie about not being peer pressured and that 3rd act is so intense just like the previous two movies. I just wonder how Marty will survive and that final moment with the train is perfect. I think the pacing is a bit slow and there's some unnecessary filler but it's a phenomenal end to a phenomenal trilogy (A)\",\n",
              " \"Well-structured and entertaining, Searching for Sugar Man takes a look at one of the strangest events in 20th century music - a star who is unaware of his fame, and his fans who know nothing about him. A story of passion and acceptance that is as heartwarming as it is unlikely, this documentary will surely satisfy even those who have no prior familiarity with the subject. If there is a criticism, it is the lack of pressure on documenting the circumstances that prevented Rodriguez's recognition; the filmmaker identified parties involved, but failed to follow up on the paper trail that he established as to where royalties from the South African music sales actually ended up. Give us the juicy details, man! (4/5)\",\n",
              " 'Feels like it was made back when all the classics were being made',\n",
              " 'So sweet and cute love story with very likeable characters. Not overly dramatic like many romance movies can be.',\n",
              " \"Event hough it doesn't take any risk it does intrigues and rewards viewers for its remarkable story-telling and leading performance.\",\n",
              " 'Harrowing, enraging documentary about the horrific mistreatment of orca whales at aquatic parks around the world. ',\n",
              " 'Not very good at all. Too slow.',\n",
              " 'A thriller that kept me on my toes but without really delving into any of the characters. A good watch nevertheless',\n",
              " 'La animación es sublime y la trama es muy bonita y conmovedora; la recomiendo si quieres ver una muy buena película animada.',\n",
              " 'Hip and visually stunning the film focuses on two LA police officers thorough a documentary film footage approach. Both funny and extremely violent the film ages well and remains one of the best cop films of its day.',\n",
              " \"It's a pretty good horror movie. However it has lots of problems. Out of all the Evil Dead movies this one hands down feels the most dated and cheap. Even though the deadites (demons) in this movie are horrifying, it can get really boring watching the movie multiple times. Finally, why would you watch this when the masterpiece Evil Dead 2 pretty much reboots this whole movie in the first 10 minutes?\",\n",
              " 'I have always been a fan of flicks that manage to cover the sci-fi domain in a very casual manner and this one does it very well. I especially liked the hard decisions the main character has to make given the restrictions of his abilities and the emotions that result out of this.',\n",
              " 'An absolute delight! A delirious, frenetic, live-action Looney Tune with a heart of gold and a great love for martial arts tropes, with a sweet romantic subplot to boot.',\n",
              " 'The whole \"coming of age, exploring your sexuality\" thing has been done to death in the movies.  This one isn\\'t bad for the genre, plus it has the added twist of a lesbian protagonist (very well portrayed by Adele Exarchopoulos) and explicit sex scenes.  However, I\\'m stopping just short of recommending it.  The film is too long and, ultimately, uneventful.',\n",
              " \"Jacking off with your bro on diving boards at the country club pool that your father owns, just normal Mexican teenager things. \\n\\nSimultaneously an incredibly convincing coming-of-age story and one of the most interesting and beautiful depictions of Mexico that you'll ever see, filled with the variety and color that you might expect from a tourism board but a great authenticity as well. The long-take construction and almost improvisational quality to the dialogue really make the film what it is, and the three leads all fill out their respective roles very convincingly. The exploration of sexuality loses a bit of its universality with how tightly it is paired with the commentaries on the peculiaraities (both good and bad) of Mexican culture at the time, but it also is a major contributor to the film's distinct identity, features that would turn up again in Cuarón's Roma. The narrator is also a great touch, appearing intermittently and causing the entire world to fade out in order to provide omnipotent commentary that concludes the narratives of characters ranging from protagonists to pigs with equal certainty and occasionally unnecessary levels of detail. (5/5)\",\n",
              " 'Leslie Nielsen at his best, timeless classic.',\n",
              " \"Didn't stand out to me from the poster/trailer so I never had a desire to watch it... and MAN was I wrong.  I absolutely loved it, one of the best I've seen in awhile.  \\nGreat acting all around, unique storyline, loved the setting and suspense …a must watch in my opinion.\",\n",
              " \"This was so good. A coming-out of age movie where the character is super relatable, most conversations are really well-written. The acting of Hailee Steinfeld is amazing. Woody Harrelson plays such a great support role. Haley Lu Richardson & Kyra Sedgwick are also very good in their roles, only Blake Jenner is not quite on that level. Some really sweet moments, some moments where you immediately feel with the main character. It's really well done, I loved it.\",\n",
              " 'Best sport drama film ever made in bollywood.',\n",
              " \"A funny twists on the genre conventions of slasher movies. If you have seen many of the classic (Texas Chainsaw, Friday the 13th, Halloween, etc..) you'll like have a lot of fun with this movie. It takes the premise of dumb college kids going to a lake destination, only to be stalked by some crazed hillbillies, and turns it on its head. In this version everything comes down to some hilarious (and unbelievable) misunderstandings. The movie is essentially a dark comedy, with ridiculously over the top deaths that play out cartoonishly despite being quite gory. The two main performers make Tucker & Dale likable, funny, unexpected protagonists who are too innocent and dumb to really make sense of what is going on\",\n",
              " \"Action packed, beautifully choreographed fight scenes. Truly exciting sequences that are well shot.Relentless with its action but unfortunately the story takes a back seat this time. The sequel to the Marix just doesnt carry the weight of the original. They doubled down on the martial arts and dropped most of the philosophy. It's \\nall style and not much substance. Still enjoyable to watch but does not live up to the original. The achievement in visual effects cannot be ignored but matrix reloaded is ultimately a let down\",\n",
              " 'con un comienzo un poco lento para mi gusto pero una buena historia',\n",
              " \"Probably Tom Cruise's best performance.    The story of a drunken, disgruntled American war hero enlisted to train Japanese forces in western ways to defeat the Samurai.  Cruise is captured and becomes transformed by the ways of the Samurai.  The film deals well with many themes including Eastern versus Western thought, and how guns and ammo changed life forever all over the world.  Ken Wantanabe delivers one of the most compelling screen performances of all time as Lord Moritsgu Katsumoto.  A great, epic film.\",\n",
              " 'Unforgettable. Raw, edgy, real, sad. The child actress is amazing',\n",
              " \"Not only an excellent doc, also a sadly constantly relevant one as well. It's a large topic to cover as it is and could've leaned in further still to exploratory detail but should be considered mandatory viewing.\",\n",
              " 'This movie is in the level of \"so bad it is actually good\". It is one of the worst movies I have ever seen. Everything is over the top: the action, the acting, the drama. I was laughing for 2.5 hours, so this actually might be worth your time if you need a good laugh.',\n",
              " \"Overall, it lacked the sparkle and exuberance of Rudy Ray Moore, and was like a Tuesday night at the Taco Bar drag performance of such things (probably that show is more dynamic too), but, I still enjoyed the attempt.\\n\\nThere should've been more style in this one, the way Coming 2 America was over-styled and rich in every way. Rudy Ray Moore gave SO much in this regard, and the styling should've been extra with the sets dripping off the hook with that vintage feel, and they didn't. The lighting was dark, when it probably should've been blown out to really make the wardrobe sing. But, that's my expectation of what it should've been, and probably bringing down my reaction to such things.\\n\\nMurphy's portrayal of Moore seemed deflated. Someone like Paul Mooney (RIP) would've been a better fit for capturing the energy Moore had.\",\n",
              " \"Beautiful animation and a meaningful story. Also, quite dark at times. It's not all that memorable though.\",\n",
              " 'Interesting premise about the environmental impact of animal production but the execution felt forced. Mija and her super pig were not only used as propaganda for Mirando but also the film itself. I like the critique but it felt overblown. (45%)',\n",
              " 'The best PG-13 remake of the Mary Poppins movie!!!!!!!',\n",
              " \"Made with the technical savvy of a 12-year old. Putting Dolph Lundgren in any situation where he has to try to act or even speak full sentences is also a really bad idea. I'm pretty sure the movie was about 60 minutes long and blown up by another 30 through completely unnecessary slo-mo shots.\",\n",
              " 'I’m sure that Jiro Dreams of Sushi is a truly astounding film to watch for those who are big fans of sushi. I’ll admit right up front that the food is shot beautifully, and it’s hard not to wonder how it would taste. But since I’ve never been all that enamored with sushi, and paying that kind of money for food is also hard to stomach, I was not connected all that much to Jiro Dreams of Sushi. The film is certainly a comprehensive look at how this restaurant operates, including a full look at who they purchase their products from, and a look into the possible future of the business. I’d be lying if I didn’t say that the movie became a bit dull to me after a while. I appreciate the amount of meticulous work that goes into making world-renowned food, but at a certain point it didn’t feel like there was much story to be told here. The most compelling part of the film was the looming question of what would happen to the restaurant when Jiro was gone, but since there was no time jump in the film, the question remained unanswered. (It’s also worth noting that watching this movie about a small close-quarters dining establishment in the time of COVID-19 might have been a mistake, because I couldn’t stop thinking about it.) I can see why Jiro Dreams of Sushi is beloved by some, but I’m clearly not the target audience, even if I can fully admit it was well-made.',\n",
              " \"It was so bad I can't believe the literal BADDIE!!!! did not end up with Victor legit Victoria deserved nothing she was such a bad character and didn't do anything???? She was so boring and awkward while Miss Emily was over here SERVING LOOKS!!!!! and then she was so wholesome and was just the kindest while Victoria was being such a HOMEWRECKER!!!!! I won't give this anything above half a star until I get a sequel that reveals that Emily and Victor are and always have been together forever. xoxo Rotten Tomatoes - Nagito Komaeda 2020\",\n",
              " 'With its memorable dialogue, perfectly timed humour and moments of sentiment, this well-acted classic romantic dramedy is a must-see.',\n",
              " 'A funny and perfectly well taken by a good narrative, this film succeed as an excellent satire.',\n",
              " 'Goldenye is one of the best James Bond movies of all time. Great Bond Girl, henchman and villain. There are also non-stop action scenes that are damn entertaining.',\n",
              " \"Heartbreaking. That's it.\",\n",
              " \"This film should've been way better than it was. There were many plot holes, the Disney princess scene was unnecessary feminist propaganda, and the B plot involving the Sugar Rush racers was essentially ignored. Felix and Calhoun were absent for most of the film, Vanellope goes turbo and breaks the rules of the first film, and the characters from the first film are out of character. Ralph suddenly thinks it's ok to unleash a virus in a video game when he fought one to save Sugar Rush in the previous movie upon knowing how dangerous viruses are. Vanellope becomes so selfish that she prioritizes Slaughter Race over saving her game and her people, and the movie doesn't call her out on her actions like it does with Ralph. Also, the Sugar Rush racers were reformed at the end of the first film and each racer had a distinct personality, so there was no need to reduce them to moody 5 year-olds for the sake of a forgotten B plot. Couldn't the directors have instead showcased their reformed personalities and their new relationship with Vanellope and Ralph in a storyline that actually worked for the franchise? \\n\\nAs a fan of the first film, I feel as though the writers forgot everything that had happened in the first film. I was sorely disappointed with this unworthy follow-up and only consider the first film canon. If you are a fan of the first film like myself, I recommend that you refrain from watching this sorry excuse of a sequel.\",\n",
              " 'A really fantastic gritty and raw heist film with standout performances across the board. The film is hectic and uncomfortable at times; which is what they intended. Pattinson is especially outstanding in this portraying a man overcome with panic and desperation to save his brother.',\n",
              " \"For sure one of the best martial art movie, I've ever seen. Totally worth it\",\n",
              " \"Beautiful; Beautiful; Beautiful! A multi-layered, extremely compelling, and enriching exploration of adulthood and what it is to 'grow up', and a failure of imagination in the grown-up world, that also gives such enlightened insights into the imagination, creativity, hope and compassion we all hold within us  from a young age. Appealing to both children and adults, it is a wonderous animation, with a stylisation that really shows you how much the creative team loved the book this is based on. Not going to lie, it had me puzzled a few times, but the wonderment and awe always ease you into its next 'passage'. I truly love how it encourages us to connect with older generations, and to feed that one-of-a-kind Rose slowly dying inside of all of us...\",\n",
              " 'A beautifully written story with authentic performances by Woodley and Teller.',\n",
              " \"After the first part, I personally watched the second part only to know why kattappa killed Baahubali, but there is a lot to it. Baahubali 1 was a thrilling movie with somewhat an abrupt ending. But the second part tells us the best part of the story. The first half shows us the intense love story of Amarendra Baahubali and  Devasena while the second half is mostly on why kattappa killed Baahubali and the war. The climax war is something really amazing. All the scenes are well shot and is a visual treat. And the music makes it better.\\n\\nDon't judge the movie, go watch it. And if you haven't seen the first part or have forgotten, watch it and then go for the second.\\n\\nMany questions of yours maybe unanswered in the movie, if you're really interested, buy the RISE OF SIVAGAMI. For all huge fans, it's a must.\\n\\nOverall I would give it a 4/5\",\n",
              " 'I really liked this movie as long as it wanted me to like it. In the beginning we are introduced to an unnamed alien who has come to earth to see what life on the planet is like. But then his remote gets stolen and he has to learnt to adapt to the lifestyle of humans.\\nHe is very confused about the way humans live. He can\\'t understand the purpose behind clothes, money, language, gestures and finally, religion. And that\\'s where I have a problem with this movie. Don\\'t get me wrong. I\\'m not gonna talk those \"why is only one religion being talked about\" arguments. Rather my problem is why is religion being given so much emphasis? If I were to make this movie, I\\'d focus more on the people\\'s lifestyle, which is exactly what the movie was going with and occasionally tries coming back to (like the condom scene).\\nThe songs, the acting, the colour palette, everything about the visual and audio was fantastic. The scene in which Jaggu wants to come out of jail made me pause the video so that I could laugh properly. The problems come up in the second half, where the sense of humour suddenly finishes and it starts turning more dramatic. The serious scenes don\\'t hit the same way as the comedy scenes do. After all, we are watching a movie about an alien adjusting to earth\\'s lifestyle. It should have a lot more humour than a grim, gritty feeling.\\nIt was fun to watch, but I don\\'t see myself watching this ever again. I know it won\\'t be as funny on seeing the second time. And that\\'s why I\\'d only recommend it to you if you aren\\'t the \"religion good\" type and can actually see a movie with an open mind, because nowadays a lot of negativity is being spread about this movie.',\n",
              " \"The absolute hands down, makes me wanna kill myself, worse movie I've ever had the misfortune of having a spare 2hrs to watch.  If I was given the choice of eating broken glass or watching this movie, pour me a big ole' plate of broken bottle. Yum! I've already thrown myself on the grenade and watched it, so you won't have to. Heed my warning. \\nThe worst story line, compounded by the worst acting I've ever seen in my entire life.  These are A list actors too. It's so bad, even rolling the credits was poorly done.\\nIt's so bad, that I've NEVER left a review on a movie, but it felt warranted to save the public the agony of gouging out their eyes with a fork and sticking an ice pick in their ears, in case they accidentally turn it on, or worse., watch it intentionally to see if it's really that bad. Don't do it!. Go lick a wall socket. I guarantee you'll enjoy it more.\",\n",
              " 'A painful look at love, life, children, marriage, and how sexual attraction at the start does not hold a marriage together when the responsibilities and hardships of life hit with tsunami force. The ending scene is heart-wrenching and almost unbearable to hear as well as watch. Even if you close your eyes you can still hear the little girl cry for her father as he just walks away.',\n",
              " \"This movie is just what the title says: the life won't happen again to you. So just follow whatever your heart says and give no room for regretting later not to follow it. That's the simple solution for all the miseries you are going on.\",\n",
              " 'this second film, in my opinion, is not as good as the first, however, it expands the universe more, of much more development for the protagonist, the villain is very interesting and the humor still works, without a doubt it is a great action entertainment and comedy.',\n",
              " 'The first segment of this film is one of my all time favorites. Excellent film 90/100.',\n",
              " '-',\n",
              " 'Fun to watch with family',\n",
              " 'I love this movie. Great story.',\n",
              " 'You really get that louisiana vibes from this movie.',\n",
              " 'Excellent, exciting and explosive! This hugely under-the-radar crime dramatic thriller is positively an intelligently and creatively made film about an A-grade student who gets involved in exam cheating. Even usually mundane activities, such as sitting an exam, are hugely entertaining to watch in Bad Genius courtesy of the brilliant camerawork employed and an energetically integrated score. Highly recommended!',\n",
              " 'Nicholas cage punching a woman while wearing a bear suit is one of the greatest moments in cinema.',\n",
              " '\"A Single Man\" is one of the most depressing movies I have ever seen. It is not only beautiful because of the emotions it transitions, but also because of its plot, as of how well the struggles in a life of a gay man are portrayed. I believe that this is the second best film about a gay person right after \"Call Me by Your Name\". Colin Firth plays majestically in this movie, as he is very clever and understandable. You get to feel all the loss of losing a loved one, as well as what the character is living through and what he tries to do to forget about this loss. The appearance of Julianne Moore is also great, as she plays an amazing side character. Decorations in the film are wonderful and fully transition the era, as well as there are a lot of amazing shots, which I have filled my photos app with. A must-see for anyone who enjoys Colin Firth and anyone who likes films with thought-provoking ideas and great acting, although I would not consider it a masterpiece. A 9/10, worth your time and money, this is the best accidental film purchase in my life and I don\\'t regret it.',\n",
              " 'Incredible portrayal of george jung. Sets and costumes spot on. Everything about this movie feels right.',\n",
              " \"Don't watch it for the humour. It's nonexistent. Painful to watch throughout. Abrupt ending that left me as cold as the rest of the movie. I can think of nothing redeeming.\",\n",
              " 'heart-breaking, sweet, lovely and truly special.',\n",
              " 'How far should comedy bits go? Andy Kaufman pushed things pretty far and Jim Carrey, in becoming Kaufman\\'s surrogate, shows that the envelope can be pushed to new depths.\\nBut is it worth it? This \"documentary\" made of footage from 20 years ago (during the making of \"Man on the Moon\") gives us some answers from Carrey\\'s point of view. It\\'s not sufficient, but it is substantial.',\n",
              " 'I wish acting was the only thing required to like the movie.If you have watched Amélie,The notebook and Charlie Chaplin acts,then you know what I am talking about.I wish this movie was novel in storyline aspect. Watch the movie only if you are a fan of Ranbir Kapoor or Priyanka Chopra.',\n",
              " 'Beautiful. Such a great film, the black and white vibes, the life uncertainty of dream chasing, and the great performance of Greta just make it beautiful.',\n",
              " 'A: 3/5\\nE: 5/5\\nR: 8.5/10',\n",
              " 'Here and there you get a few insights into the mind of an American legend, as well as some moments of depth, #thelostinterview is worth watching, but not quite the essential Jobs film that we need.',\n",
              " \"Tremors achieves perfectly what it sets out to do. It creates a near perfect balance between good-time fun and exhilarating suspense.  For it's time, the creature work is really good, the dialogue flows well and is funny, the characters are immersive and engaging and the camera work is excellent. It doesn't feel dumbed down, but rather down to earth (no pun intended) A low key genre masterpiece.\",\n",
              " \"Constantly preoccupied with offering action to provoke something in the viewer, the film wears out its climax too much. It starts with good symbolisms surrounding the father's character arc, but it loses it all. While entertaining, it doesn't quite come together as a whole.\",\n",
              " \"You know when you're in public sites and you overhear some boring conversation, it's worse than that, don't bother watching.\",\n",
              " 'Really great, the guy is a genious!',\n",
              " \"Thoroughly entertaining. Quite possibly the best prison movie I've seen. Mackenzie's eye is fantastic. \\nO' Donnell and Mendelson are superb.\",\n",
              " 'Life after WWII in the deep south.  Fighting for freedom to come home to segregation.  A white and black with the scars of the war bond together only to be torn away from the KKK.  A son kills a father over his evil doings but the scars are set and deep.',\n",
              " 'Favorite revenge flick. Killer!',\n",
              " \"what can I say, I've seen the trailer of this film. That's all I'm ever going to see. nothing else of this film really exists. too bad. It looked really good. The good thing though is that it is the only lost nominee so I won't have to do something like this again I hope.. But, I only saw 3 minutes of the film. and the 3 minutes I saw were MUCH better than the entire movie of The Broadway Melody. Man, that film sucked.\",\n",
              " \"The final entry in Iñárritu's Death Trilogy is almost certainly the most visually slick and easily appealing, though why he and writer Arriaga didn't catch more flak for using a near-identical structure so repetitively I'm not sure. Here, the pair focus on gaps in communication, taking a series of distinct storylines that tackle conflicts that emerge from social, experiential, economic, and cultural disparity, incorporated together in a manner that is more subdued than the film's predecessors. It's distressing, but is it profound? Eh, it is more universal than Amores perros, but not necessarily as clever or distinctive. There's also something to be said regarding realism - as the increasingly distant storylines are bound together , there is some suspension of disbelief involved in the odds of certain events taking place with these connections that can take you out of the story. Thank the Lord the pair moved on from the absolutely ridiculous hopelessness and particularly disjointed/unbelievable story of the middle entry, 21 Grams, by throwing in a line that the kids were saved from the desert and keeping the narrative less convoluted, but even so Babel draws attention for its relatively dismal tone. As always, the production team maintains a discerning eye for acting talent, picking actors with the capability to give emotional performances.\\n\\nAlso, what an unexpected addition to the Michael Peña-verse; as a character actor with broad appeal and great range, he's popped up in so much over the last 20 years or so in such diverse roles that it's actually pretty entertaining to track them all as they pop up organically, without going out of your way to see them all. (3.5/5)\",\n",
              " 'One of the best sports movies evee',\n",
              " \"I watched this for the first time 2 years ago. I re watched this and my mind was still being blown away on how is this from 2004? This was actually the first ever film that made me cry with its beautiful script and screenplay. Ashutosh Gowariker's on his way for a nice hat trick for movies. Another thing I loved was the songs and the music.  \\nAgain, how is this from 2004?! I can't explain how amazing this film is in words.\\nSRK's amazing emotions and acting gave a picture to the film and A.R Rahman's music gave it sound.\",\n",
              " \"Sometimes the critics are just wrong, and this is one of those times. Beautifully shot and very well acted, but slow, convoluted, difficult to follow and frustrating to watch. At first I thought I was just too stupid to understand the movie -- but no, it's an example of trying to stuff 40 lbs of crap into a 5 lb sack. A 400 page book rarely translates well to a 2 hour movie. If (like me) you've not (yet) read the book, expect to spend a lot of time asking yourself what the hell just happened. Oh, and making the climax into an anticlimax? That's not arty, that's just disappointing.\",\n",
              " \"'Haider' is another striking Shakespearean adaptation from Vishal Bhardwaj, even if I was a little unconvinced by the choice of Shahid Kapoor for the titular role.\"]"
            ]
          },
          "metadata": {
            "tags": []
          },
          "execution_count": 48
        }
      ]
    },
    {
      "cell_type": "code",
      "metadata": {
        "colab": {
          "base_uri": "https://localhost:8080/"
        },
        "id": "5zp05NwaBZu4",
        "outputId": "c6b534a1-6944-480a-d3ef-29a4efe70a10"
      },
      "source": [
        "a_string = \"Room\"\n",
        "word_list = a_string.split()\n",
        "\n",
        "number_of_words = len(word_list)\n",
        "number_of_words"
      ],
      "execution_count": null,
      "outputs": [
        {
          "output_type": "execute_result",
          "data": {
            "text/plain": [
              "1"
            ]
          },
          "metadata": {
            "tags": []
          },
          "execution_count": 21
        }
      ]
    },
    {
      "cell_type": "code",
      "metadata": {
        "id": "pVuOpaCRjdL9"
      },
      "source": [
        "dfs = pd.DataFrame(sino)\n",
        "dfr1 = pd.DataFrame(rev1)\n",
        "dfr2 = pd.DataFrame(rev2)\n",
        "dfr3 = pd.DataFrame(rev3)\n",
        "dfr4 = pd.DataFrame(rev4)\n",
        "dfr5 = pd.DataFrame(rev5)\n",
        "dfr6 = pd.DataFrame(rev6)\n",
        "dfr7 = pd.DataFrame(rev7)\n",
        "dfr8 = pd.DataFrame(rev8)\n",
        "dfr9 = pd.DataFrame(rev9)\n",
        "dfr10 = pd.DataFrame(rev10)"
      ],
      "execution_count": null,
      "outputs": []
    },
    {
      "cell_type": "code",
      "metadata": {
        "colab": {
          "base_uri": "https://localhost:8080/",
          "height": 419
        },
        "id": "TCbWuUeZayxN",
        "outputId": "30055043-dc16-4c3a-9c22-f99cc042137f"
      },
      "source": [
        "dfs"
      ],
      "execution_count": null,
      "outputs": [
        {
          "output_type": "execute_result",
          "data": {
            "text/html": [
              "<div>\n",
              "<style scoped>\n",
              "    .dataframe tbody tr th:only-of-type {\n",
              "        vertical-align: middle;\n",
              "    }\n",
              "\n",
              "    .dataframe tbody tr th {\n",
              "        vertical-align: top;\n",
              "    }\n",
              "\n",
              "    .dataframe thead th {\n",
              "        text-align: right;\n",
              "    }\n",
              "</style>\n",
              "<table border=\"1\" class=\"dataframe\">\n",
              "  <thead>\n",
              "    <tr style=\"text-align: right;\">\n",
              "      <th></th>\n",
              "      <th>0</th>\n",
              "    </tr>\n",
              "  </thead>\n",
              "  <tbody>\n",
              "    <tr>\n",
              "      <th>0</th>\n",
              "      <td>\\n                Dom Cobb (Leonardo DiCaprio)...</td>\n",
              "    </tr>\n",
              "    <tr>\n",
              "      <th>1</th>\n",
              "      <td>\\n                Neo (Keanu Reeves) believes ...</td>\n",
              "    </tr>\n",
              "    <tr>\n",
              "      <th>2</th>\n",
              "      <td>\\n                Iron Man, Thor, the Hulk and...</td>\n",
              "    </tr>\n",
              "    <tr>\n",
              "      <th>3</th>\n",
              "      <td>\\n                In this 1980s sci-fi classic...</td>\n",
              "    </tr>\n",
              "    <tr>\n",
              "      <th>4</th>\n",
              "      <td>\\n                In the Southwest during the ...</td>\n",
              "    </tr>\n",
              "    <tr>\n",
              "      <th>...</th>\n",
              "      <td>...</td>\n",
              "    </tr>\n",
              "    <tr>\n",
              "      <th>131</th>\n",
              "      <td>\\n                An accident connects four gr...</td>\n",
              "    </tr>\n",
              "    <tr>\n",
              "      <th>132</th>\n",
              "      <td>\\n                When college coach Herb Broo...</td>\n",
              "    </tr>\n",
              "    <tr>\n",
              "      <th>133</th>\n",
              "      <td>\\n                Living in America, a NASA en...</td>\n",
              "    </tr>\n",
              "    <tr>\n",
              "      <th>134</th>\n",
              "      <td>\\n                In 1970s England the head of...</td>\n",
              "    </tr>\n",
              "    <tr>\n",
              "      <th>135</th>\n",
              "      <td>\\n                In Kashmir, a young man disc...</td>\n",
              "    </tr>\n",
              "  </tbody>\n",
              "</table>\n",
              "<p>136 rows × 1 columns</p>\n",
              "</div>"
            ],
            "text/plain": [
              "                                                     0\n",
              "0    \\n                Dom Cobb (Leonardo DiCaprio)...\n",
              "1    \\n                Neo (Keanu Reeves) believes ...\n",
              "2    \\n                Iron Man, Thor, the Hulk and...\n",
              "3    \\n                In this 1980s sci-fi classic...\n",
              "4    \\n                In the Southwest during the ...\n",
              "..                                                 ...\n",
              "131  \\n                An accident connects four gr...\n",
              "132  \\n                When college coach Herb Broo...\n",
              "133  \\n                Living in America, a NASA en...\n",
              "134  \\n                In 1970s England the head of...\n",
              "135  \\n                In Kashmir, a young man disc...\n",
              "\n",
              "[136 rows x 1 columns]"
            ]
          },
          "metadata": {
            "tags": []
          },
          "execution_count": 23
        }
      ]
    },
    {
      "cell_type": "code",
      "metadata": {
        "id": "9oJsl0Mb2Y6C"
      },
      "source": [
        "dfs = dfs.apply(lambda x: x.str.replace(',','*'))\n",
        "dfs = dfs.apply(lambda x: x.str.replace('\\n',''))\n",
        "dfs = dfs.apply(lambda x: x.str.replace('                ',''))\n",
        "\n",
        "dfr1 = dfr1.apply(lambda x: x.str.replace(',','*'))\n",
        "dfr1 = dfr1.apply(lambda x: x.str.replace('\\n',''))\n",
        "dfr1 = dfr1.apply(lambda x: x.str.replace('                ',''))\n",
        "\n",
        "dfr2 = dfr2.apply(lambda x: x.str.replace(',','*'))\n",
        "dfr2 = dfr2.apply(lambda x: x.str.replace('\\n',''))\n",
        "dfr2 = dfr2.apply(lambda x: x.str.replace('                ',''))\n",
        "\n",
        "dfr3 = dfr3.apply(lambda x: x.str.replace(',','*'))\n",
        "dfr3 = dfr3.apply(lambda x: x.str.replace('\\n',''))\n",
        "dfr3 = dfr3.apply(lambda x: x.str.replace('                ',''))\n",
        "\n",
        "dfr4 = dfr4.apply(lambda x: x.str.replace(',','*'))\n",
        "dfr4 = dfr4.apply(lambda x: x.str.replace('\\n',''))\n",
        "dfr4 = dfr4.apply(lambda x: x.str.replace('                ',''))\n",
        "\n",
        "dfr5 = dfr5.apply(lambda x: x.str.replace(',','*'))\n",
        "dfr5 = dfr5.apply(lambda x: x.str.replace('\\n',''))\n",
        "dfr5 = dfr5.apply(lambda x: x.str.replace('                ',''))\n",
        "\n",
        "dfr6 = dfr6.apply(lambda x: x.str.replace(',','*'))\n",
        "dfr6 = dfr6.apply(lambda x: x.str.replace('\\n',''))\n",
        "dfr6 = dfr6.apply(lambda x: x.str.replace('                ',''))\n",
        "\n",
        "dfr7 = dfr7.apply(lambda x: x.str.replace(',','*'))\n",
        "dfr7 = dfr7.apply(lambda x: x.str.replace('\\n',''))\n",
        "dfr7 = dfr7.apply(lambda x: x.str.replace('                ',''))\n",
        "\n",
        "dfr8 = dfr8.apply(lambda x: x.str.replace(',','*'))\n",
        "dfr8 = dfr8.apply(lambda x: x.str.replace('\\n',''))\n",
        "dfr8 = dfr8.apply(lambda x: x.str.replace('                ',''))\n",
        "\n",
        "dfr9 = dfr9.apply(lambda x: x.str.replace(',','*'))\n",
        "dfr9 = dfr9.apply(lambda x: x.str.replace('\\n',''))\n",
        "dfr9 = dfr9.apply(lambda x: x.str.replace('                ',''))\n",
        "\n",
        "dfr10 = dfr10.apply(lambda x: x.str.replace(',','*'))\n",
        "dfr10 = dfr10.apply(lambda x: x.str.replace('\\n',''))\n",
        "dfr10 = dfr10.apply(lambda x: x.str.replace('                ',''))"
      ],
      "execution_count": null,
      "outputs": []
    },
    {
      "cell_type": "code",
      "metadata": {
        "colab": {
          "base_uri": "https://localhost:8080/",
          "height": 419
        },
        "id": "SANPigIx3X7R",
        "outputId": "0ae9cf0a-876f-444a-9351-b4efc1a79cda"
      },
      "source": [
        "dfr6"
      ],
      "execution_count": null,
      "outputs": [
        {
          "output_type": "execute_result",
          "data": {
            "text/html": [
              "<div>\n",
              "<style scoped>\n",
              "    .dataframe tbody tr th:only-of-type {\n",
              "        vertical-align: middle;\n",
              "    }\n",
              "\n",
              "    .dataframe tbody tr th {\n",
              "        vertical-align: top;\n",
              "    }\n",
              "\n",
              "    .dataframe thead th {\n",
              "        text-align: right;\n",
              "    }\n",
              "</style>\n",
              "<table border=\"1\" class=\"dataframe\">\n",
              "  <thead>\n",
              "    <tr style=\"text-align: right;\">\n",
              "      <th></th>\n",
              "      <th>0</th>\n",
              "    </tr>\n",
              "  </thead>\n",
              "  <tbody>\n",
              "    <tr>\n",
              "      <th>0</th>\n",
              "      <td>one of the greatest movies and achievements in...</td>\n",
              "    </tr>\n",
              "    <tr>\n",
              "      <th>1</th>\n",
              "      <td>The first movie of the saga is the only really...</td>\n",
              "    </tr>\n",
              "    <tr>\n",
              "      <th>2</th>\n",
              "      <td>OMG!! The wait after what began with the first...</td>\n",
              "    </tr>\n",
              "    <tr>\n",
              "      <th>3</th>\n",
              "      <td>Bob Gale and Robert Zemeckis came up with Back...</td>\n",
              "    </tr>\n",
              "    <tr>\n",
              "      <th>4</th>\n",
              "      <td>If you only ever see one spaghettini western t...</td>\n",
              "    </tr>\n",
              "    <tr>\n",
              "      <th>...</th>\n",
              "      <td>...</td>\n",
              "    </tr>\n",
              "    <tr>\n",
              "      <th>131</th>\n",
              "      <td>Beautifully entwined stories* which show how e...</td>\n",
              "    </tr>\n",
              "    <tr>\n",
              "      <th>132</th>\n",
              "      <td>this is my favorite overall movie because I pl...</td>\n",
              "    </tr>\n",
              "    <tr>\n",
              "      <th>133</th>\n",
              "      <td>I hate to bring up cliches like \"For a Bollywo...</td>\n",
              "    </tr>\n",
              "    <tr>\n",
              "      <th>134</th>\n",
              "      <td>It's very disjointed. You really have to watch...</td>\n",
              "    </tr>\n",
              "    <tr>\n",
              "      <th>135</th>\n",
              "      <td>'Haider' works big time like an effective thri...</td>\n",
              "    </tr>\n",
              "  </tbody>\n",
              "</table>\n",
              "<p>136 rows × 1 columns</p>\n",
              "</div>"
            ],
            "text/plain": [
              "                                                     0\n",
              "0    one of the greatest movies and achievements in...\n",
              "1    The first movie of the saga is the only really...\n",
              "2    OMG!! The wait after what began with the first...\n",
              "3    Bob Gale and Robert Zemeckis came up with Back...\n",
              "4    If you only ever see one spaghettini western t...\n",
              "..                                                 ...\n",
              "131  Beautifully entwined stories* which show how e...\n",
              "132  this is my favorite overall movie because I pl...\n",
              "133  I hate to bring up cliches like \"For a Bollywo...\n",
              "134  It's very disjointed. You really have to watch...\n",
              "135  'Haider' works big time like an effective thri...\n",
              "\n",
              "[136 rows x 1 columns]"
            ]
          },
          "metadata": {
            "tags": []
          },
          "execution_count": 36
        }
      ]
    },
    {
      "cell_type": "code",
      "metadata": {
        "colab": {
          "base_uri": "https://localhost:8080/",
          "height": 17
        },
        "id": "BOgKeRAf0EEV",
        "outputId": "81389485-3127-435e-cf34-e74e9e1a6501"
      },
      "source": [
        "from google.colab import files\n",
        "\n",
        "dfs.to_csv('sinopses.csv')\n",
        "files.download('sinopses.csv')\n",
        "\n",
        "dfr1.to_csv('1 critica.csv')\n",
        "files.download('1 critica.csv')\n",
        "\n",
        "dfr2.to_csv('2 critica.csv')\n",
        "files.download('2 critica.csv')\n",
        "\n",
        "dfr3.to_csv('3 critica.csv')\n",
        "files.download('3 critica.csv')\n",
        "\n",
        "dfr4.to_csv('4 critica.csv')\n",
        "files.download('4 critica.csv')\n",
        "\n",
        "dfr5.to_csv('5 critica.csv')\n",
        "files.download('5 critica.csv')\n",
        "\n",
        "dfr6.to_csv('6 critica.csv')\n",
        "files.download('6 critica.csv')\n",
        "\n",
        "dfr7.to_csv('7 critica.csv')\n",
        "files.download('7 critica.csv')\n",
        "\n",
        "dfr8.to_csv('8 critica.csv')\n",
        "files.download('8 critica.csv')\n",
        "\n",
        "dfr9.to_csv('9 critica.csv')\n",
        "files.download('9 critica.csv')\n",
        "\n",
        "dfr10.to_csv('10 critica.csv')\n",
        "files.download('10 critica.csv')"
      ],
      "execution_count": null,
      "outputs": [
        {
          "output_type": "display_data",
          "data": {
            "application/javascript": [
              "\n",
              "    async function download(id, filename, size) {\n",
              "      if (!google.colab.kernel.accessAllowed) {\n",
              "        return;\n",
              "      }\n",
              "      const div = document.createElement('div');\n",
              "      const label = document.createElement('label');\n",
              "      label.textContent = `Downloading \"${filename}\": `;\n",
              "      div.appendChild(label);\n",
              "      const progress = document.createElement('progress');\n",
              "      progress.max = size;\n",
              "      div.appendChild(progress);\n",
              "      document.body.appendChild(div);\n",
              "\n",
              "      const buffers = [];\n",
              "      let downloaded = 0;\n",
              "\n",
              "      const channel = await google.colab.kernel.comms.open(id);\n",
              "      // Send a message to notify the kernel that we're ready.\n",
              "      channel.send({})\n",
              "\n",
              "      for await (const message of channel.messages) {\n",
              "        // Send a message to notify the kernel that we're ready.\n",
              "        channel.send({})\n",
              "        if (message.buffers) {\n",
              "          for (const buffer of message.buffers) {\n",
              "            buffers.push(buffer);\n",
              "            downloaded += buffer.byteLength;\n",
              "            progress.value = downloaded;\n",
              "          }\n",
              "        }\n",
              "      }\n",
              "      const blob = new Blob(buffers, {type: 'application/binary'});\n",
              "      const a = document.createElement('a');\n",
              "      a.href = window.URL.createObjectURL(blob);\n",
              "      a.download = filename;\n",
              "      div.appendChild(a);\n",
              "      a.click();\n",
              "      div.remove();\n",
              "    }\n",
              "  "
            ],
            "text/plain": [
              "<IPython.core.display.Javascript object>"
            ]
          },
          "metadata": {
            "tags": []
          }
        },
        {
          "output_type": "display_data",
          "data": {
            "application/javascript": [
              "download(\"download_78fd37a2-3d26-49e2-b68d-7f3c7495db93\", \"sinopses.csv\", 49597)"
            ],
            "text/plain": [
              "<IPython.core.display.Javascript object>"
            ]
          },
          "metadata": {
            "tags": []
          }
        },
        {
          "output_type": "display_data",
          "data": {
            "application/javascript": [
              "\n",
              "    async function download(id, filename, size) {\n",
              "      if (!google.colab.kernel.accessAllowed) {\n",
              "        return;\n",
              "      }\n",
              "      const div = document.createElement('div');\n",
              "      const label = document.createElement('label');\n",
              "      label.textContent = `Downloading \"${filename}\": `;\n",
              "      div.appendChild(label);\n",
              "      const progress = document.createElement('progress');\n",
              "      progress.max = size;\n",
              "      div.appendChild(progress);\n",
              "      document.body.appendChild(div);\n",
              "\n",
              "      const buffers = [];\n",
              "      let downloaded = 0;\n",
              "\n",
              "      const channel = await google.colab.kernel.comms.open(id);\n",
              "      // Send a message to notify the kernel that we're ready.\n",
              "      channel.send({})\n",
              "\n",
              "      for await (const message of channel.messages) {\n",
              "        // Send a message to notify the kernel that we're ready.\n",
              "        channel.send({})\n",
              "        if (message.buffers) {\n",
              "          for (const buffer of message.buffers) {\n",
              "            buffers.push(buffer);\n",
              "            downloaded += buffer.byteLength;\n",
              "            progress.value = downloaded;\n",
              "          }\n",
              "        }\n",
              "      }\n",
              "      const blob = new Blob(buffers, {type: 'application/binary'});\n",
              "      const a = document.createElement('a');\n",
              "      a.href = window.URL.createObjectURL(blob);\n",
              "      a.download = filename;\n",
              "      div.appendChild(a);\n",
              "      a.click();\n",
              "      div.remove();\n",
              "    }\n",
              "  "
            ],
            "text/plain": [
              "<IPython.core.display.Javascript object>"
            ]
          },
          "metadata": {
            "tags": []
          }
        },
        {
          "output_type": "display_data",
          "data": {
            "application/javascript": [
              "download(\"download_a56eface-db4a-471d-9735-06d32d1133c1\", \"1 critica.csv\", 50403)"
            ],
            "text/plain": [
              "<IPython.core.display.Javascript object>"
            ]
          },
          "metadata": {
            "tags": []
          }
        },
        {
          "output_type": "display_data",
          "data": {
            "application/javascript": [
              "\n",
              "    async function download(id, filename, size) {\n",
              "      if (!google.colab.kernel.accessAllowed) {\n",
              "        return;\n",
              "      }\n",
              "      const div = document.createElement('div');\n",
              "      const label = document.createElement('label');\n",
              "      label.textContent = `Downloading \"${filename}\": `;\n",
              "      div.appendChild(label);\n",
              "      const progress = document.createElement('progress');\n",
              "      progress.max = size;\n",
              "      div.appendChild(progress);\n",
              "      document.body.appendChild(div);\n",
              "\n",
              "      const buffers = [];\n",
              "      let downloaded = 0;\n",
              "\n",
              "      const channel = await google.colab.kernel.comms.open(id);\n",
              "      // Send a message to notify the kernel that we're ready.\n",
              "      channel.send({})\n",
              "\n",
              "      for await (const message of channel.messages) {\n",
              "        // Send a message to notify the kernel that we're ready.\n",
              "        channel.send({})\n",
              "        if (message.buffers) {\n",
              "          for (const buffer of message.buffers) {\n",
              "            buffers.push(buffer);\n",
              "            downloaded += buffer.byteLength;\n",
              "            progress.value = downloaded;\n",
              "          }\n",
              "        }\n",
              "      }\n",
              "      const blob = new Blob(buffers, {type: 'application/binary'});\n",
              "      const a = document.createElement('a');\n",
              "      a.href = window.URL.createObjectURL(blob);\n",
              "      a.download = filename;\n",
              "      div.appendChild(a);\n",
              "      a.click();\n",
              "      div.remove();\n",
              "    }\n",
              "  "
            ],
            "text/plain": [
              "<IPython.core.display.Javascript object>"
            ]
          },
          "metadata": {
            "tags": []
          }
        },
        {
          "output_type": "display_data",
          "data": {
            "application/javascript": [
              "download(\"download_7fbad5a4-0719-4648-b9e6-143398f759dd\", \"2 critica.csv\", 41101)"
            ],
            "text/plain": [
              "<IPython.core.display.Javascript object>"
            ]
          },
          "metadata": {
            "tags": []
          }
        },
        {
          "output_type": "display_data",
          "data": {
            "application/javascript": [
              "\n",
              "    async function download(id, filename, size) {\n",
              "      if (!google.colab.kernel.accessAllowed) {\n",
              "        return;\n",
              "      }\n",
              "      const div = document.createElement('div');\n",
              "      const label = document.createElement('label');\n",
              "      label.textContent = `Downloading \"${filename}\": `;\n",
              "      div.appendChild(label);\n",
              "      const progress = document.createElement('progress');\n",
              "      progress.max = size;\n",
              "      div.appendChild(progress);\n",
              "      document.body.appendChild(div);\n",
              "\n",
              "      const buffers = [];\n",
              "      let downloaded = 0;\n",
              "\n",
              "      const channel = await google.colab.kernel.comms.open(id);\n",
              "      // Send a message to notify the kernel that we're ready.\n",
              "      channel.send({})\n",
              "\n",
              "      for await (const message of channel.messages) {\n",
              "        // Send a message to notify the kernel that we're ready.\n",
              "        channel.send({})\n",
              "        if (message.buffers) {\n",
              "          for (const buffer of message.buffers) {\n",
              "            buffers.push(buffer);\n",
              "            downloaded += buffer.byteLength;\n",
              "            progress.value = downloaded;\n",
              "          }\n",
              "        }\n",
              "      }\n",
              "      const blob = new Blob(buffers, {type: 'application/binary'});\n",
              "      const a = document.createElement('a');\n",
              "      a.href = window.URL.createObjectURL(blob);\n",
              "      a.download = filename;\n",
              "      div.appendChild(a);\n",
              "      a.click();\n",
              "      div.remove();\n",
              "    }\n",
              "  "
            ],
            "text/plain": [
              "<IPython.core.display.Javascript object>"
            ]
          },
          "metadata": {
            "tags": []
          }
        },
        {
          "output_type": "display_data",
          "data": {
            "application/javascript": [
              "download(\"download_652598f9-2332-4ce4-82cb-ac62401b3b88\", \"3 critica.csv\", 52331)"
            ],
            "text/plain": [
              "<IPython.core.display.Javascript object>"
            ]
          },
          "metadata": {
            "tags": []
          }
        },
        {
          "output_type": "display_data",
          "data": {
            "application/javascript": [
              "\n",
              "    async function download(id, filename, size) {\n",
              "      if (!google.colab.kernel.accessAllowed) {\n",
              "        return;\n",
              "      }\n",
              "      const div = document.createElement('div');\n",
              "      const label = document.createElement('label');\n",
              "      label.textContent = `Downloading \"${filename}\": `;\n",
              "      div.appendChild(label);\n",
              "      const progress = document.createElement('progress');\n",
              "      progress.max = size;\n",
              "      div.appendChild(progress);\n",
              "      document.body.appendChild(div);\n",
              "\n",
              "      const buffers = [];\n",
              "      let downloaded = 0;\n",
              "\n",
              "      const channel = await google.colab.kernel.comms.open(id);\n",
              "      // Send a message to notify the kernel that we're ready.\n",
              "      channel.send({})\n",
              "\n",
              "      for await (const message of channel.messages) {\n",
              "        // Send a message to notify the kernel that we're ready.\n",
              "        channel.send({})\n",
              "        if (message.buffers) {\n",
              "          for (const buffer of message.buffers) {\n",
              "            buffers.push(buffer);\n",
              "            downloaded += buffer.byteLength;\n",
              "            progress.value = downloaded;\n",
              "          }\n",
              "        }\n",
              "      }\n",
              "      const blob = new Blob(buffers, {type: 'application/binary'});\n",
              "      const a = document.createElement('a');\n",
              "      a.href = window.URL.createObjectURL(blob);\n",
              "      a.download = filename;\n",
              "      div.appendChild(a);\n",
              "      a.click();\n",
              "      div.remove();\n",
              "    }\n",
              "  "
            ],
            "text/plain": [
              "<IPython.core.display.Javascript object>"
            ]
          },
          "metadata": {
            "tags": []
          }
        },
        {
          "output_type": "display_data",
          "data": {
            "application/javascript": [
              "download(\"download_306c3a61-6226-448c-9df2-2df998ed9ace\", \"4 critica.csv\", 41101)"
            ],
            "text/plain": [
              "<IPython.core.display.Javascript object>"
            ]
          },
          "metadata": {
            "tags": []
          }
        },
        {
          "output_type": "display_data",
          "data": {
            "application/javascript": [
              "\n",
              "    async function download(id, filename, size) {\n",
              "      if (!google.colab.kernel.accessAllowed) {\n",
              "        return;\n",
              "      }\n",
              "      const div = document.createElement('div');\n",
              "      const label = document.createElement('label');\n",
              "      label.textContent = `Downloading \"${filename}\": `;\n",
              "      div.appendChild(label);\n",
              "      const progress = document.createElement('progress');\n",
              "      progress.max = size;\n",
              "      div.appendChild(progress);\n",
              "      document.body.appendChild(div);\n",
              "\n",
              "      const buffers = [];\n",
              "      let downloaded = 0;\n",
              "\n",
              "      const channel = await google.colab.kernel.comms.open(id);\n",
              "      // Send a message to notify the kernel that we're ready.\n",
              "      channel.send({})\n",
              "\n",
              "      for await (const message of channel.messages) {\n",
              "        // Send a message to notify the kernel that we're ready.\n",
              "        channel.send({})\n",
              "        if (message.buffers) {\n",
              "          for (const buffer of message.buffers) {\n",
              "            buffers.push(buffer);\n",
              "            downloaded += buffer.byteLength;\n",
              "            progress.value = downloaded;\n",
              "          }\n",
              "        }\n",
              "      }\n",
              "      const blob = new Blob(buffers, {type: 'application/binary'});\n",
              "      const a = document.createElement('a');\n",
              "      a.href = window.URL.createObjectURL(blob);\n",
              "      a.download = filename;\n",
              "      div.appendChild(a);\n",
              "      a.click();\n",
              "      div.remove();\n",
              "    }\n",
              "  "
            ],
            "text/plain": [
              "<IPython.core.display.Javascript object>"
            ]
          },
          "metadata": {
            "tags": []
          }
        },
        {
          "output_type": "display_data",
          "data": {
            "application/javascript": [
              "download(\"download_5825e199-a409-4dc7-8426-228d3c282d2a\", \"5 critica.csv\", 39676)"
            ],
            "text/plain": [
              "<IPython.core.display.Javascript object>"
            ]
          },
          "metadata": {
            "tags": []
          }
        },
        {
          "output_type": "display_data",
          "data": {
            "application/javascript": [
              "\n",
              "    async function download(id, filename, size) {\n",
              "      if (!google.colab.kernel.accessAllowed) {\n",
              "        return;\n",
              "      }\n",
              "      const div = document.createElement('div');\n",
              "      const label = document.createElement('label');\n",
              "      label.textContent = `Downloading \"${filename}\": `;\n",
              "      div.appendChild(label);\n",
              "      const progress = document.createElement('progress');\n",
              "      progress.max = size;\n",
              "      div.appendChild(progress);\n",
              "      document.body.appendChild(div);\n",
              "\n",
              "      const buffers = [];\n",
              "      let downloaded = 0;\n",
              "\n",
              "      const channel = await google.colab.kernel.comms.open(id);\n",
              "      // Send a message to notify the kernel that we're ready.\n",
              "      channel.send({})\n",
              "\n",
              "      for await (const message of channel.messages) {\n",
              "        // Send a message to notify the kernel that we're ready.\n",
              "        channel.send({})\n",
              "        if (message.buffers) {\n",
              "          for (const buffer of message.buffers) {\n",
              "            buffers.push(buffer);\n",
              "            downloaded += buffer.byteLength;\n",
              "            progress.value = downloaded;\n",
              "          }\n",
              "        }\n",
              "      }\n",
              "      const blob = new Blob(buffers, {type: 'application/binary'});\n",
              "      const a = document.createElement('a');\n",
              "      a.href = window.URL.createObjectURL(blob);\n",
              "      a.download = filename;\n",
              "      div.appendChild(a);\n",
              "      a.click();\n",
              "      div.remove();\n",
              "    }\n",
              "  "
            ],
            "text/plain": [
              "<IPython.core.display.Javascript object>"
            ]
          },
          "metadata": {
            "tags": []
          }
        },
        {
          "output_type": "display_data",
          "data": {
            "application/javascript": [
              "download(\"download_f243113f-49b5-4029-ba2c-571f08a73a18\", \"6 critica.csv\", 52009)"
            ],
            "text/plain": [
              "<IPython.core.display.Javascript object>"
            ]
          },
          "metadata": {
            "tags": []
          }
        },
        {
          "output_type": "display_data",
          "data": {
            "application/javascript": [
              "\n",
              "    async function download(id, filename, size) {\n",
              "      if (!google.colab.kernel.accessAllowed) {\n",
              "        return;\n",
              "      }\n",
              "      const div = document.createElement('div');\n",
              "      const label = document.createElement('label');\n",
              "      label.textContent = `Downloading \"${filename}\": `;\n",
              "      div.appendChild(label);\n",
              "      const progress = document.createElement('progress');\n",
              "      progress.max = size;\n",
              "      div.appendChild(progress);\n",
              "      document.body.appendChild(div);\n",
              "\n",
              "      const buffers = [];\n",
              "      let downloaded = 0;\n",
              "\n",
              "      const channel = await google.colab.kernel.comms.open(id);\n",
              "      // Send a message to notify the kernel that we're ready.\n",
              "      channel.send({})\n",
              "\n",
              "      for await (const message of channel.messages) {\n",
              "        // Send a message to notify the kernel that we're ready.\n",
              "        channel.send({})\n",
              "        if (message.buffers) {\n",
              "          for (const buffer of message.buffers) {\n",
              "            buffers.push(buffer);\n",
              "            downloaded += buffer.byteLength;\n",
              "            progress.value = downloaded;\n",
              "          }\n",
              "        }\n",
              "      }\n",
              "      const blob = new Blob(buffers, {type: 'application/binary'});\n",
              "      const a = document.createElement('a');\n",
              "      a.href = window.URL.createObjectURL(blob);\n",
              "      a.download = filename;\n",
              "      div.appendChild(a);\n",
              "      a.click();\n",
              "      div.remove();\n",
              "    }\n",
              "  "
            ],
            "text/plain": [
              "<IPython.core.display.Javascript object>"
            ]
          },
          "metadata": {
            "tags": []
          }
        },
        {
          "output_type": "display_data",
          "data": {
            "application/javascript": [
              "download(\"download_dc9cf8d8-29ae-472e-9d21-59a9d1cc95e9\", \"7 critica.csv\", 58642)"
            ],
            "text/plain": [
              "<IPython.core.display.Javascript object>"
            ]
          },
          "metadata": {
            "tags": []
          }
        },
        {
          "output_type": "display_data",
          "data": {
            "application/javascript": [
              "\n",
              "    async function download(id, filename, size) {\n",
              "      if (!google.colab.kernel.accessAllowed) {\n",
              "        return;\n",
              "      }\n",
              "      const div = document.createElement('div');\n",
              "      const label = document.createElement('label');\n",
              "      label.textContent = `Downloading \"${filename}\": `;\n",
              "      div.appendChild(label);\n",
              "      const progress = document.createElement('progress');\n",
              "      progress.max = size;\n",
              "      div.appendChild(progress);\n",
              "      document.body.appendChild(div);\n",
              "\n",
              "      const buffers = [];\n",
              "      let downloaded = 0;\n",
              "\n",
              "      const channel = await google.colab.kernel.comms.open(id);\n",
              "      // Send a message to notify the kernel that we're ready.\n",
              "      channel.send({})\n",
              "\n",
              "      for await (const message of channel.messages) {\n",
              "        // Send a message to notify the kernel that we're ready.\n",
              "        channel.send({})\n",
              "        if (message.buffers) {\n",
              "          for (const buffer of message.buffers) {\n",
              "            buffers.push(buffer);\n",
              "            downloaded += buffer.byteLength;\n",
              "            progress.value = downloaded;\n",
              "          }\n",
              "        }\n",
              "      }\n",
              "      const blob = new Blob(buffers, {type: 'application/binary'});\n",
              "      const a = document.createElement('a');\n",
              "      a.href = window.URL.createObjectURL(blob);\n",
              "      a.download = filename;\n",
              "      div.appendChild(a);\n",
              "      a.click();\n",
              "      div.remove();\n",
              "    }\n",
              "  "
            ],
            "text/plain": [
              "<IPython.core.display.Javascript object>"
            ]
          },
          "metadata": {
            "tags": []
          }
        },
        {
          "output_type": "display_data",
          "data": {
            "application/javascript": [
              "download(\"download_e09ea285-dfc5-4f8e-9925-670e9d12b111\", \"8 critica.csv\", 36787)"
            ],
            "text/plain": [
              "<IPython.core.display.Javascript object>"
            ]
          },
          "metadata": {
            "tags": []
          }
        },
        {
          "output_type": "display_data",
          "data": {
            "application/javascript": [
              "\n",
              "    async function download(id, filename, size) {\n",
              "      if (!google.colab.kernel.accessAllowed) {\n",
              "        return;\n",
              "      }\n",
              "      const div = document.createElement('div');\n",
              "      const label = document.createElement('label');\n",
              "      label.textContent = `Downloading \"${filename}\": `;\n",
              "      div.appendChild(label);\n",
              "      const progress = document.createElement('progress');\n",
              "      progress.max = size;\n",
              "      div.appendChild(progress);\n",
              "      document.body.appendChild(div);\n",
              "\n",
              "      const buffers = [];\n",
              "      let downloaded = 0;\n",
              "\n",
              "      const channel = await google.colab.kernel.comms.open(id);\n",
              "      // Send a message to notify the kernel that we're ready.\n",
              "      channel.send({})\n",
              "\n",
              "      for await (const message of channel.messages) {\n",
              "        // Send a message to notify the kernel that we're ready.\n",
              "        channel.send({})\n",
              "        if (message.buffers) {\n",
              "          for (const buffer of message.buffers) {\n",
              "            buffers.push(buffer);\n",
              "            downloaded += buffer.byteLength;\n",
              "            progress.value = downloaded;\n",
              "          }\n",
              "        }\n",
              "      }\n",
              "      const blob = new Blob(buffers, {type: 'application/binary'});\n",
              "      const a = document.createElement('a');\n",
              "      a.href = window.URL.createObjectURL(blob);\n",
              "      a.download = filename;\n",
              "      div.appendChild(a);\n",
              "      a.click();\n",
              "      div.remove();\n",
              "    }\n",
              "  "
            ],
            "text/plain": [
              "<IPython.core.display.Javascript object>"
            ]
          },
          "metadata": {
            "tags": []
          }
        },
        {
          "output_type": "display_data",
          "data": {
            "application/javascript": [
              "download(\"download_b942da63-059b-4780-9a0d-27b02f324ba5\", \"9 critica.csv\", 39340)"
            ],
            "text/plain": [
              "<IPython.core.display.Javascript object>"
            ]
          },
          "metadata": {
            "tags": []
          }
        },
        {
          "output_type": "display_data",
          "data": {
            "application/javascript": [
              "\n",
              "    async function download(id, filename, size) {\n",
              "      if (!google.colab.kernel.accessAllowed) {\n",
              "        return;\n",
              "      }\n",
              "      const div = document.createElement('div');\n",
              "      const label = document.createElement('label');\n",
              "      label.textContent = `Downloading \"${filename}\": `;\n",
              "      div.appendChild(label);\n",
              "      const progress = document.createElement('progress');\n",
              "      progress.max = size;\n",
              "      div.appendChild(progress);\n",
              "      document.body.appendChild(div);\n",
              "\n",
              "      const buffers = [];\n",
              "      let downloaded = 0;\n",
              "\n",
              "      const channel = await google.colab.kernel.comms.open(id);\n",
              "      // Send a message to notify the kernel that we're ready.\n",
              "      channel.send({})\n",
              "\n",
              "      for await (const message of channel.messages) {\n",
              "        // Send a message to notify the kernel that we're ready.\n",
              "        channel.send({})\n",
              "        if (message.buffers) {\n",
              "          for (const buffer of message.buffers) {\n",
              "            buffers.push(buffer);\n",
              "            downloaded += buffer.byteLength;\n",
              "            progress.value = downloaded;\n",
              "          }\n",
              "        }\n",
              "      }\n",
              "      const blob = new Blob(buffers, {type: 'application/binary'});\n",
              "      const a = document.createElement('a');\n",
              "      a.href = window.URL.createObjectURL(blob);\n",
              "      a.download = filename;\n",
              "      div.appendChild(a);\n",
              "      a.click();\n",
              "      div.remove();\n",
              "    }\n",
              "  "
            ],
            "text/plain": [
              "<IPython.core.display.Javascript object>"
            ]
          },
          "metadata": {
            "tags": []
          }
        },
        {
          "output_type": "display_data",
          "data": {
            "application/javascript": [
              "download(\"download_8c458417-ad50-4db2-94aa-ecc32e1c09cc\", \"10 critica.csv\", 41128)"
            ],
            "text/plain": [
              "<IPython.core.display.Javascript object>"
            ]
          },
          "metadata": {
            "tags": []
          }
        }
      ]
    },
    {
      "cell_type": "code",
      "metadata": {
        "colab": {
          "base_uri": "https://localhost:8080/",
          "height": 17
        },
        "id": "vBNaV6TM-L6-",
        "outputId": "6329686c-3150-48a0-9ece-ab393ebb9a1e"
      },
      "source": [
        "files.download('10 critica.csv')"
      ],
      "execution_count": null,
      "outputs": [
        {
          "output_type": "display_data",
          "data": {
            "application/javascript": [
              "\n",
              "    async function download(id, filename, size) {\n",
              "      if (!google.colab.kernel.accessAllowed) {\n",
              "        return;\n",
              "      }\n",
              "      const div = document.createElement('div');\n",
              "      const label = document.createElement('label');\n",
              "      label.textContent = `Downloading \"${filename}\": `;\n",
              "      div.appendChild(label);\n",
              "      const progress = document.createElement('progress');\n",
              "      progress.max = size;\n",
              "      div.appendChild(progress);\n",
              "      document.body.appendChild(div);\n",
              "\n",
              "      const buffers = [];\n",
              "      let downloaded = 0;\n",
              "\n",
              "      const channel = await google.colab.kernel.comms.open(id);\n",
              "      // Send a message to notify the kernel that we're ready.\n",
              "      channel.send({})\n",
              "\n",
              "      for await (const message of channel.messages) {\n",
              "        // Send a message to notify the kernel that we're ready.\n",
              "        channel.send({})\n",
              "        if (message.buffers) {\n",
              "          for (const buffer of message.buffers) {\n",
              "            buffers.push(buffer);\n",
              "            downloaded += buffer.byteLength;\n",
              "            progress.value = downloaded;\n",
              "          }\n",
              "        }\n",
              "      }\n",
              "      const blob = new Blob(buffers, {type: 'application/binary'});\n",
              "      const a = document.createElement('a');\n",
              "      a.href = window.URL.createObjectURL(blob);\n",
              "      a.download = filename;\n",
              "      div.appendChild(a);\n",
              "      a.click();\n",
              "      div.remove();\n",
              "    }\n",
              "  "
            ],
            "text/plain": [
              "<IPython.core.display.Javascript object>"
            ]
          },
          "metadata": {
            "tags": []
          }
        },
        {
          "output_type": "display_data",
          "data": {
            "application/javascript": [
              "download(\"download_b13ff78f-14c8-43d8-aa0d-4e714f414d85\", \"10 critica.csv\", 41128)"
            ],
            "text/plain": [
              "<IPython.core.display.Javascript object>"
            ]
          },
          "metadata": {
            "tags": []
          }
        }
      ]
    },
    {
      "cell_type": "code",
      "metadata": {
        "colab": {
          "base_uri": "https://localhost:8080/",
          "height": 17
        },
        "id": "PUsS_kpsEsDo",
        "outputId": "6ed392bf-6468-40bc-8cf1-784fe92be0a1"
      },
      "source": [
        "dfr4.to_csv('4 critica.csv')\n",
        "files.download('4 critica.csv')\n"
      ],
      "execution_count": null,
      "outputs": [
        {
          "output_type": "display_data",
          "data": {
            "application/javascript": [
              "\n",
              "    async function download(id, filename, size) {\n",
              "      if (!google.colab.kernel.accessAllowed) {\n",
              "        return;\n",
              "      }\n",
              "      const div = document.createElement('div');\n",
              "      const label = document.createElement('label');\n",
              "      label.textContent = `Downloading \"${filename}\": `;\n",
              "      div.appendChild(label);\n",
              "      const progress = document.createElement('progress');\n",
              "      progress.max = size;\n",
              "      div.appendChild(progress);\n",
              "      document.body.appendChild(div);\n",
              "\n",
              "      const buffers = [];\n",
              "      let downloaded = 0;\n",
              "\n",
              "      const channel = await google.colab.kernel.comms.open(id);\n",
              "      // Send a message to notify the kernel that we're ready.\n",
              "      channel.send({})\n",
              "\n",
              "      for await (const message of channel.messages) {\n",
              "        // Send a message to notify the kernel that we're ready.\n",
              "        channel.send({})\n",
              "        if (message.buffers) {\n",
              "          for (const buffer of message.buffers) {\n",
              "            buffers.push(buffer);\n",
              "            downloaded += buffer.byteLength;\n",
              "            progress.value = downloaded;\n",
              "          }\n",
              "        }\n",
              "      }\n",
              "      const blob = new Blob(buffers, {type: 'application/binary'});\n",
              "      const a = document.createElement('a');\n",
              "      a.href = window.URL.createObjectURL(blob);\n",
              "      a.download = filename;\n",
              "      div.appendChild(a);\n",
              "      a.click();\n",
              "      div.remove();\n",
              "    }\n",
              "  "
            ],
            "text/plain": [
              "<IPython.core.display.Javascript object>"
            ]
          },
          "metadata": {
            "tags": []
          }
        },
        {
          "output_type": "display_data",
          "data": {
            "application/javascript": [
              "download(\"download_8abe1398-7046-4839-9d66-5d02d8e03bb8\", \"4 critica.csv\", 49385)"
            ],
            "text/plain": [
              "<IPython.core.display.Javascript object>"
            ]
          },
          "metadata": {
            "tags": []
          }
        }
      ]
    }
  ]
}